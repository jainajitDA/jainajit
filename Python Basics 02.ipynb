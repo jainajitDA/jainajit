{
 "cells": [
  {
   "cell_type": "code",
   "execution_count": null,
   "metadata": {},
   "outputs": [],
   "source": [
    "##Store the values 'python', 'c', and 'java' in a list. Print each of these values out, using their position in the list.\n",
    "\n",
    "lst=[]\n",
    "n=int(input(\"Please Enter the no of elements in list- \"))\n",
    "for i in range(n):\n",
    "    value=str(input())\n",
    "    lst.append(value)\n",
    "print(lst)    \n",
    "\n",
    "def value(n):\n",
    "    p=int(input(\"Enter the position of the element in list to print - \"))\n",
    "\n",
    "    while p < n:\n",
    "        print(lst[p])\n",
    "        break\n",
    "    else:\n",
    "        print(\"Warning -No element at this position!\\nEnter a valid position between 0 to\",n-1)\n",
    "    return value(n)\n",
    "\n",
    "value(n)"
   ]
  },
  {
   "cell_type": "code",
   "execution_count": 1,
   "metadata": {},
   "outputs": [
    {
     "name": "stdout",
     "output_type": "stream",
     "text": [
      "\n",
      "Please Enter the no of elements in list- 4\n",
      "programmeR\n",
      "tRuck driver\n",
      "business\n",
      "student\n",
      "['programmeR', 'tRuck driver', 'business', 'student']\n",
      "\n",
      "Enter the position of the element in list to print - 0\n",
      "\n",
      "A nice programming language is programmeR\n",
      "\n",
      "Enter the position of the element in list to print - 1\n",
      "\n",
      "A nice programming language is tRuck driver\n",
      "\n",
      "Enter the position of the element in list to print - 2\n",
      "\n",
      "A nice programming language is business\n",
      "\n",
      "Enter the position of the element in list to print - 3\n",
      "\n",
      "A nice programming language is student\n",
      "\n",
      "Enter the position of the element in list to print - 4\n",
      "\n",
      "Warning -No element at this position!\n",
      "Enter a valid position between 0 to 3\n",
      "\n",
      "Enter the position of the element in list to print - 5\n",
      "\n",
      "Warning -No element at this position!\n",
      "Enter a valid position between 0 to 3\n"
     ]
    },
    {
     "ename": "KeyboardInterrupt",
     "evalue": "Interrupted by user",
     "output_type": "error",
     "traceback": [
      "\u001b[1;31m---------------------------------------------------------------------------\u001b[0m",
      "\u001b[1;31mKeyboardInterrupt\u001b[0m                         Traceback (most recent call last)",
      "\u001b[1;32m<ipython-input-1-57c81c573cef>\u001b[0m in \u001b[0;36m<module>\u001b[1;34m\u001b[0m\n\u001b[0;32m     20\u001b[0m     \u001b[1;32mreturn\u001b[0m \u001b[0mvalue\u001b[0m\u001b[1;33m(\u001b[0m\u001b[0mn\u001b[0m\u001b[1;33m)\u001b[0m\u001b[1;33m\u001b[0m\u001b[1;33m\u001b[0m\u001b[0m\n\u001b[0;32m     21\u001b[0m \u001b[1;33m\u001b[0m\u001b[0m\n\u001b[1;32m---> 22\u001b[1;33m \u001b[0mvalue\u001b[0m\u001b[1;33m(\u001b[0m\u001b[0mn\u001b[0m\u001b[1;33m)\u001b[0m\u001b[1;33m\u001b[0m\u001b[1;33m\u001b[0m\u001b[0m\n\u001b[0m",
      "\u001b[1;32m<ipython-input-1-57c81c573cef>\u001b[0m in \u001b[0;36mvalue\u001b[1;34m(n)\u001b[0m\n\u001b[0;32m     18\u001b[0m     \u001b[1;32melse\u001b[0m\u001b[1;33m:\u001b[0m\u001b[1;33m\u001b[0m\u001b[1;33m\u001b[0m\u001b[0m\n\u001b[0;32m     19\u001b[0m         \u001b[0mprint\u001b[0m\u001b[1;33m(\u001b[0m\u001b[1;34m\"\\nWarning -No element at this position!\\nEnter a valid position between 0 to\"\u001b[0m\u001b[1;33m,\u001b[0m\u001b[0mn\u001b[0m\u001b[1;33m-\u001b[0m\u001b[1;36m1\u001b[0m\u001b[1;33m)\u001b[0m\u001b[1;33m\u001b[0m\u001b[1;33m\u001b[0m\u001b[0m\n\u001b[1;32m---> 20\u001b[1;33m     \u001b[1;32mreturn\u001b[0m \u001b[0mvalue\u001b[0m\u001b[1;33m(\u001b[0m\u001b[0mn\u001b[0m\u001b[1;33m)\u001b[0m\u001b[1;33m\u001b[0m\u001b[1;33m\u001b[0m\u001b[0m\n\u001b[0m\u001b[0;32m     21\u001b[0m \u001b[1;33m\u001b[0m\u001b[0m\n\u001b[0;32m     22\u001b[0m \u001b[0mvalue\u001b[0m\u001b[1;33m(\u001b[0m\u001b[0mn\u001b[0m\u001b[1;33m)\u001b[0m\u001b[1;33m\u001b[0m\u001b[1;33m\u001b[0m\u001b[0m\n",
      "\u001b[1;32m<ipython-input-1-57c81c573cef>\u001b[0m in \u001b[0;36mvalue\u001b[1;34m(n)\u001b[0m\n\u001b[0;32m     18\u001b[0m     \u001b[1;32melse\u001b[0m\u001b[1;33m:\u001b[0m\u001b[1;33m\u001b[0m\u001b[1;33m\u001b[0m\u001b[0m\n\u001b[0;32m     19\u001b[0m         \u001b[0mprint\u001b[0m\u001b[1;33m(\u001b[0m\u001b[1;34m\"\\nWarning -No element at this position!\\nEnter a valid position between 0 to\"\u001b[0m\u001b[1;33m,\u001b[0m\u001b[0mn\u001b[0m\u001b[1;33m-\u001b[0m\u001b[1;36m1\u001b[0m\u001b[1;33m)\u001b[0m\u001b[1;33m\u001b[0m\u001b[1;33m\u001b[0m\u001b[0m\n\u001b[1;32m---> 20\u001b[1;33m     \u001b[1;32mreturn\u001b[0m \u001b[0mvalue\u001b[0m\u001b[1;33m(\u001b[0m\u001b[0mn\u001b[0m\u001b[1;33m)\u001b[0m\u001b[1;33m\u001b[0m\u001b[1;33m\u001b[0m\u001b[0m\n\u001b[0m\u001b[0;32m     21\u001b[0m \u001b[1;33m\u001b[0m\u001b[0m\n\u001b[0;32m     22\u001b[0m \u001b[0mvalue\u001b[0m\u001b[1;33m(\u001b[0m\u001b[0mn\u001b[0m\u001b[1;33m)\u001b[0m\u001b[1;33m\u001b[0m\u001b[1;33m\u001b[0m\u001b[0m\n",
      "\u001b[1;32m<ipython-input-1-57c81c573cef>\u001b[0m in \u001b[0;36mvalue\u001b[1;34m(n)\u001b[0m\n\u001b[0;32m     18\u001b[0m     \u001b[1;32melse\u001b[0m\u001b[1;33m:\u001b[0m\u001b[1;33m\u001b[0m\u001b[1;33m\u001b[0m\u001b[0m\n\u001b[0;32m     19\u001b[0m         \u001b[0mprint\u001b[0m\u001b[1;33m(\u001b[0m\u001b[1;34m\"\\nWarning -No element at this position!\\nEnter a valid position between 0 to\"\u001b[0m\u001b[1;33m,\u001b[0m\u001b[0mn\u001b[0m\u001b[1;33m-\u001b[0m\u001b[1;36m1\u001b[0m\u001b[1;33m)\u001b[0m\u001b[1;33m\u001b[0m\u001b[1;33m\u001b[0m\u001b[0m\n\u001b[1;32m---> 20\u001b[1;33m     \u001b[1;32mreturn\u001b[0m \u001b[0mvalue\u001b[0m\u001b[1;33m(\u001b[0m\u001b[0mn\u001b[0m\u001b[1;33m)\u001b[0m\u001b[1;33m\u001b[0m\u001b[1;33m\u001b[0m\u001b[0m\n\u001b[0m\u001b[0;32m     21\u001b[0m \u001b[1;33m\u001b[0m\u001b[0m\n\u001b[0;32m     22\u001b[0m \u001b[0mvalue\u001b[0m\u001b[1;33m(\u001b[0m\u001b[0mn\u001b[0m\u001b[1;33m)\u001b[0m\u001b[1;33m\u001b[0m\u001b[1;33m\u001b[0m\u001b[0m\n",
      "\u001b[1;32m<ipython-input-1-57c81c573cef>\u001b[0m in \u001b[0;36mvalue\u001b[1;34m(n)\u001b[0m\n\u001b[0;32m     18\u001b[0m     \u001b[1;32melse\u001b[0m\u001b[1;33m:\u001b[0m\u001b[1;33m\u001b[0m\u001b[1;33m\u001b[0m\u001b[0m\n\u001b[0;32m     19\u001b[0m         \u001b[0mprint\u001b[0m\u001b[1;33m(\u001b[0m\u001b[1;34m\"\\nWarning -No element at this position!\\nEnter a valid position between 0 to\"\u001b[0m\u001b[1;33m,\u001b[0m\u001b[0mn\u001b[0m\u001b[1;33m-\u001b[0m\u001b[1;36m1\u001b[0m\u001b[1;33m)\u001b[0m\u001b[1;33m\u001b[0m\u001b[1;33m\u001b[0m\u001b[0m\n\u001b[1;32m---> 20\u001b[1;33m     \u001b[1;32mreturn\u001b[0m \u001b[0mvalue\u001b[0m\u001b[1;33m(\u001b[0m\u001b[0mn\u001b[0m\u001b[1;33m)\u001b[0m\u001b[1;33m\u001b[0m\u001b[1;33m\u001b[0m\u001b[0m\n\u001b[0m\u001b[0;32m     21\u001b[0m \u001b[1;33m\u001b[0m\u001b[0m\n\u001b[0;32m     22\u001b[0m \u001b[0mvalue\u001b[0m\u001b[1;33m(\u001b[0m\u001b[0mn\u001b[0m\u001b[1;33m)\u001b[0m\u001b[1;33m\u001b[0m\u001b[1;33m\u001b[0m\u001b[0m\n",
      "\u001b[1;32m<ipython-input-1-57c81c573cef>\u001b[0m in \u001b[0;36mvalue\u001b[1;34m(n)\u001b[0m\n\u001b[0;32m     18\u001b[0m     \u001b[1;32melse\u001b[0m\u001b[1;33m:\u001b[0m\u001b[1;33m\u001b[0m\u001b[1;33m\u001b[0m\u001b[0m\n\u001b[0;32m     19\u001b[0m         \u001b[0mprint\u001b[0m\u001b[1;33m(\u001b[0m\u001b[1;34m\"\\nWarning -No element at this position!\\nEnter a valid position between 0 to\"\u001b[0m\u001b[1;33m,\u001b[0m\u001b[0mn\u001b[0m\u001b[1;33m-\u001b[0m\u001b[1;36m1\u001b[0m\u001b[1;33m)\u001b[0m\u001b[1;33m\u001b[0m\u001b[1;33m\u001b[0m\u001b[0m\n\u001b[1;32m---> 20\u001b[1;33m     \u001b[1;32mreturn\u001b[0m \u001b[0mvalue\u001b[0m\u001b[1;33m(\u001b[0m\u001b[0mn\u001b[0m\u001b[1;33m)\u001b[0m\u001b[1;33m\u001b[0m\u001b[1;33m\u001b[0m\u001b[0m\n\u001b[0m\u001b[0;32m     21\u001b[0m \u001b[1;33m\u001b[0m\u001b[0m\n\u001b[0;32m     22\u001b[0m \u001b[0mvalue\u001b[0m\u001b[1;33m(\u001b[0m\u001b[0mn\u001b[0m\u001b[1;33m)\u001b[0m\u001b[1;33m\u001b[0m\u001b[1;33m\u001b[0m\u001b[0m\n",
      "\u001b[1;32m<ipython-input-1-57c81c573cef>\u001b[0m in \u001b[0;36mvalue\u001b[1;34m(n)\u001b[0m\n\u001b[0;32m     18\u001b[0m     \u001b[1;32melse\u001b[0m\u001b[1;33m:\u001b[0m\u001b[1;33m\u001b[0m\u001b[1;33m\u001b[0m\u001b[0m\n\u001b[0;32m     19\u001b[0m         \u001b[0mprint\u001b[0m\u001b[1;33m(\u001b[0m\u001b[1;34m\"\\nWarning -No element at this position!\\nEnter a valid position between 0 to\"\u001b[0m\u001b[1;33m,\u001b[0m\u001b[0mn\u001b[0m\u001b[1;33m-\u001b[0m\u001b[1;36m1\u001b[0m\u001b[1;33m)\u001b[0m\u001b[1;33m\u001b[0m\u001b[1;33m\u001b[0m\u001b[0m\n\u001b[1;32m---> 20\u001b[1;33m     \u001b[1;32mreturn\u001b[0m \u001b[0mvalue\u001b[0m\u001b[1;33m(\u001b[0m\u001b[0mn\u001b[0m\u001b[1;33m)\u001b[0m\u001b[1;33m\u001b[0m\u001b[1;33m\u001b[0m\u001b[0m\n\u001b[0m\u001b[0;32m     21\u001b[0m \u001b[1;33m\u001b[0m\u001b[0m\n\u001b[0;32m     22\u001b[0m \u001b[0mvalue\u001b[0m\u001b[1;33m(\u001b[0m\u001b[0mn\u001b[0m\u001b[1;33m)\u001b[0m\u001b[1;33m\u001b[0m\u001b[1;33m\u001b[0m\u001b[0m\n",
      "\u001b[1;32m<ipython-input-1-57c81c573cef>\u001b[0m in \u001b[0;36mvalue\u001b[1;34m(n)\u001b[0m\n\u001b[0;32m     11\u001b[0m \u001b[1;33m\u001b[0m\u001b[0m\n\u001b[0;32m     12\u001b[0m \u001b[1;32mdef\u001b[0m \u001b[0mvalue\u001b[0m\u001b[1;33m(\u001b[0m\u001b[0mn\u001b[0m\u001b[1;33m)\u001b[0m\u001b[1;33m:\u001b[0m\u001b[1;33m\u001b[0m\u001b[1;33m\u001b[0m\u001b[0m\n\u001b[1;32m---> 13\u001b[1;33m     \u001b[0mp\u001b[0m\u001b[1;33m=\u001b[0m\u001b[0mint\u001b[0m\u001b[1;33m(\u001b[0m\u001b[0minput\u001b[0m\u001b[1;33m(\u001b[0m\u001b[1;34m\"\\nEnter the position of the element in list to print - \"\u001b[0m\u001b[1;33m)\u001b[0m\u001b[1;33m)\u001b[0m\u001b[1;33m\u001b[0m\u001b[1;33m\u001b[0m\u001b[0m\n\u001b[0m\u001b[0;32m     14\u001b[0m \u001b[1;33m\u001b[0m\u001b[0m\n\u001b[0;32m     15\u001b[0m     \u001b[1;32mwhile\u001b[0m \u001b[0mp\u001b[0m \u001b[1;33m<\u001b[0m \u001b[0mn\u001b[0m\u001b[1;33m:\u001b[0m\u001b[1;33m\u001b[0m\u001b[1;33m\u001b[0m\u001b[0m\n",
      "\u001b[1;32m~\\anaconda3\\lib\\site-packages\\ipykernel\\kernelbase.py\u001b[0m in \u001b[0;36mraw_input\u001b[1;34m(self, prompt)\u001b[0m\n\u001b[0;32m    858\u001b[0m                 \u001b[1;34m\"raw_input was called, but this frontend does not support input requests.\"\u001b[0m\u001b[1;33m\u001b[0m\u001b[1;33m\u001b[0m\u001b[0m\n\u001b[0;32m    859\u001b[0m             )\n\u001b[1;32m--> 860\u001b[1;33m         return self._input_request(str(prompt),\n\u001b[0m\u001b[0;32m    861\u001b[0m             \u001b[0mself\u001b[0m\u001b[1;33m.\u001b[0m\u001b[0m_parent_ident\u001b[0m\u001b[1;33m,\u001b[0m\u001b[1;33m\u001b[0m\u001b[1;33m\u001b[0m\u001b[0m\n\u001b[0;32m    862\u001b[0m             \u001b[0mself\u001b[0m\u001b[1;33m.\u001b[0m\u001b[0m_parent_header\u001b[0m\u001b[1;33m,\u001b[0m\u001b[1;33m\u001b[0m\u001b[1;33m\u001b[0m\u001b[0m\n",
      "\u001b[1;32m~\\anaconda3\\lib\\site-packages\\ipykernel\\kernelbase.py\u001b[0m in \u001b[0;36m_input_request\u001b[1;34m(self, prompt, ident, parent, password)\u001b[0m\n\u001b[0;32m    902\u001b[0m             \u001b[1;32mexcept\u001b[0m \u001b[0mKeyboardInterrupt\u001b[0m\u001b[1;33m:\u001b[0m\u001b[1;33m\u001b[0m\u001b[1;33m\u001b[0m\u001b[0m\n\u001b[0;32m    903\u001b[0m                 \u001b[1;31m# re-raise KeyboardInterrupt, to truncate traceback\u001b[0m\u001b[1;33m\u001b[0m\u001b[1;33m\u001b[0m\u001b[1;33m\u001b[0m\u001b[0m\n\u001b[1;32m--> 904\u001b[1;33m                 \u001b[1;32mraise\u001b[0m \u001b[0mKeyboardInterrupt\u001b[0m\u001b[1;33m(\u001b[0m\u001b[1;34m\"Interrupted by user\"\u001b[0m\u001b[1;33m)\u001b[0m \u001b[1;32mfrom\u001b[0m \u001b[1;32mNone\u001b[0m\u001b[1;33m\u001b[0m\u001b[1;33m\u001b[0m\u001b[0m\n\u001b[0m\u001b[0;32m    905\u001b[0m             \u001b[1;32mexcept\u001b[0m \u001b[0mException\u001b[0m \u001b[1;32mas\u001b[0m \u001b[0me\u001b[0m\u001b[1;33m:\u001b[0m\u001b[1;33m\u001b[0m\u001b[1;33m\u001b[0m\u001b[0m\n\u001b[0;32m    906\u001b[0m                 \u001b[0mself\u001b[0m\u001b[1;33m.\u001b[0m\u001b[0mlog\u001b[0m\u001b[1;33m.\u001b[0m\u001b[0mwarning\u001b[0m\u001b[1;33m(\u001b[0m\u001b[1;34m\"Invalid Message:\"\u001b[0m\u001b[1;33m,\u001b[0m \u001b[0mexc_info\u001b[0m\u001b[1;33m=\u001b[0m\u001b[1;32mTrue\u001b[0m\u001b[1;33m)\u001b[0m\u001b[1;33m\u001b[0m\u001b[1;33m\u001b[0m\u001b[0m\n",
      "\u001b[1;31mKeyboardInterrupt\u001b[0m: Interrupted by user"
     ]
    }
   ],
   "source": [
    "##Store the values 'python', 'c', and 'java' in a list. Print a statement about each of these values, \n",
    "##using their position in the list.\n",
    "\n",
    "\n",
    "lst=[]\n",
    "n=int(input(\"\\nPlease Enter the no of elements in list- \"))\n",
    "for i in range(n):\n",
    "    value=str(input())\n",
    "    lst.append(value)\n",
    "print(lst)    \n",
    "\n",
    "def value(n):\n",
    "    p=int(input(\"\\nEnter the position of the element in list to print - \"))\n",
    "\n",
    "    while p < n:\n",
    "        print(\"\\nA nice programming language is\",lst[p])\n",
    "        break\n",
    "    else:\n",
    "        print(\"\\nWarning -No element at this position!\\nEnter a valid position between 0 to\",n-1)\n",
    "    return value(n)\n",
    "\n",
    "value(n)"
   ]
  },
  {
   "cell_type": "code",
   "execution_count": 3,
   "metadata": {},
   "outputs": [
    {
     "name": "stdout",
     "output_type": "stream",
     "text": [
      "\n",
      "Please Enter the no of elements in list- 4\n",
      "programmer\n",
      "truck driver\n",
      "business\n",
      "student\n",
      "['Programmer', 'Truck Driver', 'Business', 'Student']\n",
      "\n",
      "Enter the element looking for in the list -student\n",
      "True\n",
      "3\n",
      "\n",
      "Enter the element to add- analyst\n",
      "\n",
      "Enter the element to be inserted- DOCTOR\n",
      "\n",
      "Enter the position - 0\n",
      "\n",
      " Doctor\n",
      "\n",
      " Programmer\n",
      "\n",
      " Truck Driver\n",
      "\n",
      " Business\n",
      "\n",
      " Student\n",
      "\n",
      " Analyst\n"
     ]
    }
   ],
   "source": [
    "##Make a list that includes four careers, such as ['programmer','truck driver','business','student'].\n",
    "##Use the list.index() function to find the index of one career in your list.\n",
    "##Use the in function to show that this career is in your list.\n",
    "##Use the append() function to add a new career to your list.\n",
    "##Use the insert() function to add a new career at the beginning of the list.\n",
    "##Use a loop to show all the careers in your list.\n",
    "career=[]\n",
    "n=int(input(\"\\nPlease Enter the no of elements in list- \"))\n",
    "for i in range(n):\n",
    "    value=str.title(input())\n",
    "    career.append(value)\n",
    "print(career)\n",
    "\n",
    "que=str.title(input(\"\\nEnter the element looking for in the list -\"))\n",
    "print(que.title() in career)\n",
    "print(career.index(que.title()))\n",
    "\n",
    "app=str.title(input(\"\\nEnter the element to add- \"))\n",
    "career.append(app.title())\n",
    "\n",
    "ins=str.title(input(\"\\nEnter the element to be inserted- \"))\n",
    "p=int(input(\"\\nEnter the position - \"))\n",
    "career.insert(p,ins.title())\n",
    "\n",
    "for i in career:\n",
    "    print(\"\\n\",i)"
   ]
  },
  {
   "cell_type": "code",
   "execution_count": null,
   "metadata": {},
   "outputs": [
    {
     "name": "stdout",
     "output_type": "stream",
     "text": [
      "\n",
      "what order should list print- original/ alphabetical/ reverse alphabetical/ reverse - reverse \n",
      "\n",
      " ['Analyst', 'Student', 'Business', 'Truck Driver', 'Programmer', 'Doctor']\n",
      "\n",
      "what order should list print- original/ alphabetical/ reverse alphabetical/ reverse -  original\n",
      "\n",
      " ['Doctor', 'Programmer', 'Truck Driver', 'Business', 'Student', 'Analyst']\n",
      "\n",
      "what order should list print- original/ alphabetical/ reverse alphabetical/ reverse - orignal\n",
      "order not valid or unavailable\n"
     ]
    }
   ],
   "source": [
    "##Start with the list you created in Working List.\n",
    "##You are going to print out the list in a number of different orders.\n",
    "##Each time you print the list, use a for loop rather than printing the raw list.\n",
    "##Print a message each time telling us what order we should see the list in.\n",
    "##Print the list in its original order.\n",
    "##Print the list in alphabetical order.\n",
    "##Print the list in reverse alphabetical order.\n",
    "##Print the list in the reverse order from what it started.\n",
    "##Permanently sort the list in alphabetical order, and then print it out.\n",
    "##Permanently sort the list in reverse alphabetical order, and then print it out\n",
    "\n",
    "workinglist=career\n",
    "\n",
    "for i in workinglist:\n",
    "    order = str.lower(input(\"\\nwhat order should list print- original/ alphabetical/ reverse alphabetical/ reverse - \"))\n",
    "    if order.strip()==\"reverse alphabetical\":\n",
    "        print(\"\\n\",sorted(workinglist, reverse=True))\n",
    "    elif order.strip()==\"reverse\":\n",
    "        print(\"\\n\",workinglist[::-1])\n",
    "    elif order.strip()==\"alphabetical\":\n",
    "        print(\"\\n\",sorted(workinglist))\n",
    "    elif order.strip()==\"original\":\n",
    "        print(\"\\n\",workinglist)\n",
    "    else:\n",
    "        print(\"Order not valid or unavailable\")   "
   ]
  },
  {
   "cell_type": "code",
   "execution_count": 8,
   "metadata": {},
   "outputs": [
    {
     "name": "stdout",
     "output_type": "stream",
     "text": [
      "\n",
      "Please Enter the no of elements in list- 10\n",
      "24\n",
      "325231\n",
      "24\n",
      "553\n",
      "241\n",
      "3521\n",
      "01\n",
      "24\n",
      "234\n",
      "22\n",
      "\n",
      " [24, 325231, 24, 553, 241, 3521, 1, 24, 234, 22]\n",
      "\n",
      " 24\n",
      "\n",
      " 325231\n",
      "\n",
      " 24\n",
      "\n",
      " 553\n",
      "\n",
      " 241\n",
      "\n",
      " 3521\n",
      "\n",
      " 1\n",
      "\n",
      " 24\n",
      "\n",
      " 234\n",
      "\n",
      " 22\n",
      "\n",
      "what order should list print- increasing/ decreasing/ original/ reverse - break\n",
      "Increasing Order\n",
      "[1, 22, 24, 24, 24, 234, 241, 553, 3521, 325231]\n",
      "decreasing Order\n",
      "[325231, 3521, 553, 241, 234, 24, 24, 24, 22, 1]\n"
     ]
    }
   ],
   "source": [
    "##Make a list of 5 numbers, in a random order.\n",
    "##You are going to print out the list in a number of different orders.\n",
    "##Each time you print the list, use a for loop rather than printing the raw list.\n",
    "##Print a message each time telling us what order we should see the list in.\n",
    "##Print the numbers in the original order.\n",
    "##Print the numbers in increasing order.\n",
    "##Print the numbers in decreasing order.\n",
    "##Print the numbers in the reverse order from how they started.\n",
    "##Permanently sort the numbers in increasing order, and then print them out.\n",
    "##Permanently sort the numbers in descreasing order, and then print them out.\n",
    "\n",
    "numlst=[]\n",
    "n=int(input(\"\\nPlease Enter the no of elements in list- \"))\n",
    "for i in range(n):\n",
    "    value=int(input())\n",
    "    numlst.append(value)\n",
    "print(\"\\n\",numlst)\n",
    "\n",
    "for i in numlst:\n",
    "    print(\"\\n\",i)\n",
    "\n",
    "for i in numlst:\n",
    "    order = str.lower(input(\"\\nwhat order should list print- increasing/ decreasing/ original/ reverse - \"))\n",
    "    if order.strip()==\"decreasing\":\n",
    "        print(\"\\n\",sorted(numlst, reverse=True))\n",
    "    elif order.strip()==\"reverse\":\n",
    "        print(\"\\n\",numlst[::-1])\n",
    "    elif order.strip()==\"increasing\":\n",
    "        print(\"\\n\",sorted(numlst))\n",
    "    elif order.strip()==\"original\":\n",
    "        print(\"\\n\",numlst)\n",
    "    elif order.strip()==\"break\":\n",
    "        break\n",
    "    else:\n",
    "        print(\"Order not valid or unavailable\")   \n",
    "        \n",
    "print(\"Increasing Order\")        \n",
    "numlst= sorted(numlst)\n",
    "print(numlst)\n",
    "print(\"decreasing Order\")\n",
    "numlst= sorted(numlst, reverse=True)\n",
    "print(numlst)\n"
   ]
  },
  {
   "cell_type": "code",
   "execution_count": 10,
   "metadata": {},
   "outputs": [
    {
     "name": "stdout",
     "output_type": "stream",
     "text": [
      "random list is 5 character long\n",
      "num list is 8 character long\n",
      "carrer list is 4 character long\n",
      "famous list is 5 character long\n"
     ]
    }
   ],
   "source": [
    "##Copy two or three of the lists you made from the previous exercises, or make up two or three new lists.\n",
    "##Print out a series of statements that tell us how long each list is\n",
    "random=[1,34,78,4,76]\n",
    "num=[1,3,4,7,8,4,7,6]\n",
    "carrer=['programmer','truck','business','student']\n",
    "famous=['ram','sham','lam','tam','nam']\n",
    "\n",
    "print(\"random list is\",len(random),\"character long\")\n",
    "print(\"num list is\",len(num),\"character long\")\n",
    "print(\"carrer list is\",len(carrer),\"character long\")\n",
    "print(\"famous list is\",len(famous),\"character long\")\n",
    "\n",
    "\n",
    "\n"
   ]
  },
  {
   "cell_type": "code",
   "execution_count": 24,
   "metadata": {},
   "outputs": [
    {
     "ename": "KeyboardInterrupt",
     "evalue": "Interrupted by user",
     "output_type": "error",
     "traceback": [
      "\u001b[1;31m---------------------------------------------------------------------------\u001b[0m",
      "\u001b[1;31mKeyboardInterrupt\u001b[0m                         Traceback (most recent call last)",
      "\u001b[1;32m<ipython-input-24-37cbeced47ef>\u001b[0m in \u001b[0;36m<module>\u001b[1;34m\u001b[0m\n\u001b[0;32m      6\u001b[0m \u001b[1;33m\u001b[0m\u001b[0m\n\u001b[0;32m      7\u001b[0m \u001b[0mlst\u001b[0m\u001b[1;33m=\u001b[0m\u001b[1;33m[\u001b[0m\u001b[1;33m]\u001b[0m\u001b[1;33m\u001b[0m\u001b[1;33m\u001b[0m\u001b[0m\n\u001b[1;32m----> 8\u001b[1;33m \u001b[0mn\u001b[0m\u001b[1;33m=\u001b[0m\u001b[0mint\u001b[0m\u001b[1;33m(\u001b[0m\u001b[0minput\u001b[0m\u001b[1;33m(\u001b[0m\u001b[1;34m\"\\nPlease Enter the no of elements in list- \"\u001b[0m\u001b[1;33m)\u001b[0m\u001b[1;33m)\u001b[0m\u001b[1;33m\u001b[0m\u001b[1;33m\u001b[0m\u001b[0m\n\u001b[0m\u001b[0;32m      9\u001b[0m \u001b[1;32mfor\u001b[0m \u001b[0mi\u001b[0m \u001b[1;32min\u001b[0m \u001b[0mrange\u001b[0m\u001b[1;33m(\u001b[0m\u001b[0mn\u001b[0m\u001b[1;33m)\u001b[0m\u001b[1;33m:\u001b[0m\u001b[1;33m\u001b[0m\u001b[1;33m\u001b[0m\u001b[0m\n\u001b[0;32m     10\u001b[0m     \u001b[0mvalue\u001b[0m\u001b[1;33m=\u001b[0m\u001b[0mstr\u001b[0m\u001b[1;33m(\u001b[0m\u001b[0minput\u001b[0m\u001b[1;33m(\u001b[0m\u001b[1;33m)\u001b[0m\u001b[1;33m)\u001b[0m\u001b[1;33m\u001b[0m\u001b[1;33m\u001b[0m\u001b[0m\n",
      "\u001b[1;32m~\\anaconda3\\lib\\site-packages\\ipykernel\\kernelbase.py\u001b[0m in \u001b[0;36mraw_input\u001b[1;34m(self, prompt)\u001b[0m\n\u001b[0;32m    858\u001b[0m                 \u001b[1;34m\"raw_input was called, but this frontend does not support input requests.\"\u001b[0m\u001b[1;33m\u001b[0m\u001b[1;33m\u001b[0m\u001b[0m\n\u001b[0;32m    859\u001b[0m             )\n\u001b[1;32m--> 860\u001b[1;33m         return self._input_request(str(prompt),\n\u001b[0m\u001b[0;32m    861\u001b[0m             \u001b[0mself\u001b[0m\u001b[1;33m.\u001b[0m\u001b[0m_parent_ident\u001b[0m\u001b[1;33m,\u001b[0m\u001b[1;33m\u001b[0m\u001b[1;33m\u001b[0m\u001b[0m\n\u001b[0;32m    862\u001b[0m             \u001b[0mself\u001b[0m\u001b[1;33m.\u001b[0m\u001b[0m_parent_header\u001b[0m\u001b[1;33m,\u001b[0m\u001b[1;33m\u001b[0m\u001b[1;33m\u001b[0m\u001b[0m\n",
      "\u001b[1;32m~\\anaconda3\\lib\\site-packages\\ipykernel\\kernelbase.py\u001b[0m in \u001b[0;36m_input_request\u001b[1;34m(self, prompt, ident, parent, password)\u001b[0m\n\u001b[0;32m    902\u001b[0m             \u001b[1;32mexcept\u001b[0m \u001b[0mKeyboardInterrupt\u001b[0m\u001b[1;33m:\u001b[0m\u001b[1;33m\u001b[0m\u001b[1;33m\u001b[0m\u001b[0m\n\u001b[0;32m    903\u001b[0m                 \u001b[1;31m# re-raise KeyboardInterrupt, to truncate traceback\u001b[0m\u001b[1;33m\u001b[0m\u001b[1;33m\u001b[0m\u001b[1;33m\u001b[0m\u001b[0m\n\u001b[1;32m--> 904\u001b[1;33m                 \u001b[1;32mraise\u001b[0m \u001b[0mKeyboardInterrupt\u001b[0m\u001b[1;33m(\u001b[0m\u001b[1;34m\"Interrupted by user\"\u001b[0m\u001b[1;33m)\u001b[0m \u001b[1;32mfrom\u001b[0m \u001b[1;32mNone\u001b[0m\u001b[1;33m\u001b[0m\u001b[1;33m\u001b[0m\u001b[0m\n\u001b[0m\u001b[0;32m    905\u001b[0m             \u001b[1;32mexcept\u001b[0m \u001b[0mException\u001b[0m \u001b[1;32mas\u001b[0m \u001b[0me\u001b[0m\u001b[1;33m:\u001b[0m\u001b[1;33m\u001b[0m\u001b[1;33m\u001b[0m\u001b[0m\n\u001b[0;32m    906\u001b[0m                 \u001b[0mself\u001b[0m\u001b[1;33m.\u001b[0m\u001b[0mlog\u001b[0m\u001b[1;33m.\u001b[0m\u001b[0mwarning\u001b[0m\u001b[1;33m(\u001b[0m\u001b[1;34m\"Invalid Message:\"\u001b[0m\u001b[1;33m,\u001b[0m \u001b[0mexc_info\u001b[0m\u001b[1;33m=\u001b[0m\u001b[1;32mTrue\u001b[0m\u001b[1;33m)\u001b[0m\u001b[1;33m\u001b[0m\u001b[1;33m\u001b[0m\u001b[0m\n",
      "\u001b[1;31mKeyboardInterrupt\u001b[0m: Interrupted by user"
     ]
    }
   ],
   "source": [
    "##Make a list that includes the names of four famous people.\n",
    "##Remove each person from the list, one at a time, using each of the four methods we have just seen:\n",
    "##Pop the last item from the list, and pop any item except the last item.\n",
    "##Remove one item by its position, and one item by its value.\n",
    "##Print out a message that there are no famous people left in your list, and print your list to prove that it is empty.\n",
    "\n",
    "lst=[]\n",
    "n=int(input(\"\\nPlease Enter the no of elements in list- \"))\n",
    "for i in range(n):\n",
    "    value=str(input())\n",
    "    lst.append(value.title())\n",
    "print(lst)\n",
    "d=str(input(\"Enter the name to be deleted -\"))\n",
    "lst.remove(d.title())\n",
    "print(lst)\n",
    "\n",
    "c=int(input(\"Enter the position to be deleted -\"))\n",
    "lst.pop(c)\n",
    "print(lst)\n",
    "\n",
    "c=int(input(\"Enter the position to be deleted -\"))\n",
    "lst.pop(len(lst)-1)\n",
    "print(lst)\n",
    "\n",
    "c=int(input(\"Enter the position to be deleted -\"))\n",
    "del lst[c]\n",
    "print(lst)\n",
    "\n",
    "print(\"List is empty\")\n",
    "print(lst)\n",
    "\n"
   ]
  },
  {
   "cell_type": "markdown",
   "metadata": {},
   "source": [
    "##### "
   ]
  },
  {
   "cell_type": "code",
   "execution_count": 27,
   "metadata": {},
   "outputs": [
    {
     "name": "stdout",
     "output_type": "stream",
     "text": [
      "\n",
      "Please Enter the no of elements in list- 10\n",
      "a\n",
      "b\n",
      "c\n",
      "d\n",
      "e\n",
      "f\n",
      "g\n",
      "h\n",
      "i\n",
      "j\n",
      "['A', 'B', 'C', 'D', 'E', 'F', 'G', 'H', 'I', 'J']\n",
      "[]\n",
      "[]\n"
     ]
    },
    {
     "ename": "ValueError",
     "evalue": "slice step cannot be zero",
     "output_type": "error",
     "traceback": [
      "\u001b[1;31m---------------------------------------------------------------------------\u001b[0m",
      "\u001b[1;31mValueError\u001b[0m                                Traceback (most recent call last)",
      "\u001b[1;32m<ipython-input-27-9f0c2942c00b>\u001b[0m in \u001b[0;36m<module>\u001b[1;34m\u001b[0m\n\u001b[0;32m     13\u001b[0m \u001b[0mprint\u001b[0m\u001b[1;33m(\u001b[0m\u001b[0mlst\u001b[0m\u001b[1;33m[\u001b[0m\u001b[1;33m:\u001b[0m\u001b[1;36m0\u001b[0m\u001b[1;33m]\u001b[0m\u001b[1;33m)\u001b[0m\u001b[1;33m\u001b[0m\u001b[1;33m\u001b[0m\u001b[0m\n\u001b[0;32m     14\u001b[0m \u001b[0mprint\u001b[0m\u001b[1;33m(\u001b[0m\u001b[0mlst\u001b[0m\u001b[1;33m[\u001b[0m\u001b[1;33m:\u001b[0m\u001b[1;36m0\u001b[0m\u001b[1;33m:\u001b[0m\u001b[1;33m]\u001b[0m\u001b[1;33m)\u001b[0m\u001b[1;33m\u001b[0m\u001b[1;33m\u001b[0m\u001b[0m\n\u001b[1;32m---> 15\u001b[1;33m \u001b[0mprint\u001b[0m\u001b[1;33m(\u001b[0m\u001b[0mlst\u001b[0m\u001b[1;33m[\u001b[0m\u001b[1;33m:\u001b[0m\u001b[1;33m:\u001b[0m\u001b[1;36m0\u001b[0m\u001b[1;33m]\u001b[0m\u001b[1;33m)\u001b[0m\u001b[1;33m\u001b[0m\u001b[1;33m\u001b[0m\u001b[0m\n\u001b[0m\u001b[0;32m     16\u001b[0m \u001b[0mprint\u001b[0m\u001b[1;33m(\u001b[0m\u001b[0mlst\u001b[0m\u001b[1;33m[\u001b[0m\u001b[1;36m0\u001b[0m\u001b[1;33m:\u001b[0m\u001b[1;33m]\u001b[0m\u001b[1;33m)\u001b[0m\u001b[1;33m\u001b[0m\u001b[1;33m\u001b[0m\u001b[0m\n\u001b[0;32m     17\u001b[0m \u001b[0mprint\u001b[0m\u001b[1;33m(\u001b[0m\u001b[0mlst\u001b[0m\u001b[1;33m[\u001b[0m\u001b[1;36m0\u001b[0m\u001b[1;33m:\u001b[0m\u001b[1;33m:\u001b[0m\u001b[1;33m]\u001b[0m\u001b[1;33m)\u001b[0m\u001b[1;33m\u001b[0m\u001b[1;33m\u001b[0m\u001b[0m\n",
      "\u001b[1;31mValueError\u001b[0m: slice step cannot be zero"
     ]
    }
   ],
   "source": [
    "##Store the first ten letters of the alphabet in a list.\n",
    "##Use a slice to print out the first three letters of the alphabet.\n",
    "##Use a slice to print out any three letters from the middle of your list.\n",
    "##Use a slice to print out the letters from any point in the middle of your list, to the end.\n",
    "\n",
    "lst=[]\n",
    "n=int(input(\"\\nPlease Enter the no of elements in list- \"))\n",
    "for i in range(n):\n",
    "    value=str(input())\n",
    "    lst.append(value.title())\n",
    "print(lst)\n",
    "\n",
    "print(lst[:1])\n",
    "print(lst[:0:])\n",
    "print(lst[::0])\n",
    "print(lst[0:])\n",
    "print(lst[0::])"
   ]
  },
  {
   "cell_type": "code",
   "execution_count": null,
   "metadata": {},
   "outputs": [],
   "source": [
    "##Your goal in this exercise is to prove that copying a list protects the original list.\n",
    "##Make a list with three people's names in it.\n",
    "##Use a slice to make a copy of the entire list.\n",
    "##Add at least two new names to the new copy of the list.\n",
    "##Make a loop that prints out all of the names in the original list, along with a message that this is the original list.\n",
    "##Make a loop that prints out all of the names in the copied list, along with a message that this is the copied list.\n"
   ]
  },
  {
   "cell_type": "code",
   "execution_count": 65,
   "metadata": {},
   "outputs": [
    {
     "name": "stdout",
     "output_type": "stream",
     "text": [
      "           [1] \n",
      "\n",
      "          [1, 2] \n",
      "\n",
      "         [1, 2, 3] \n",
      "\n",
      "        [1, 2, 3, 4] \n",
      "\n",
      "       [1, 2, 3, 4, 5] \n",
      "\n",
      "      [1, 2, 3, 4, 5, 6] \n",
      "\n",
      "     [1, 2, 3, 4, 5, 6, 7] \n",
      "\n",
      "    [1, 2, 3, 4, 5, 6, 7, 8] \n",
      "\n",
      "   [1, 2, 3, 4, 5, 6, 7, 8, 9] \n",
      "\n"
     ]
    }
   ],
   "source": [
    "#Use the range() function to store the first twenty numbers (1-20) in a list, and print them out.\n",
    "\n",
    "lst=[]\n",
    "for i in range(20):\n",
    "    a=int(i+1)\n",
    "    lst.append(a)\n",
    "    print(\" \"*(20-i),lst,\"\\n\")\n",
    "\n",
    "    \n",
    "        \n"
   ]
  },
  {
   "cell_type": "code",
   "execution_count": 75,
   "metadata": {},
   "outputs": [
    {
     "name": "stdout",
     "output_type": "stream",
     "text": [
      "\n",
      "enter the amount in wallet 1\n"
     ]
    },
    {
     "ename": "KeyboardInterrupt",
     "evalue": "Interrupted by user",
     "output_type": "error",
     "traceback": [
      "\u001b[1;31m---------------------------------------------------------------------------\u001b[0m",
      "\u001b[1;31mKeyboardInterrupt\u001b[0m                         Traceback (most recent call last)",
      "\u001b[1;32m<ipython-input-75-6d6506af20e5>\u001b[0m in \u001b[0;36m<module>\u001b[1;34m\u001b[0m\n\u001b[0;32m      7\u001b[0m \u001b[1;32mfor\u001b[0m \u001b[0mi\u001b[0m \u001b[1;32min\u001b[0m \u001b[0mrange\u001b[0m\u001b[1;33m(\u001b[0m\u001b[1;36m5\u001b[0m\u001b[1;33m)\u001b[0m\u001b[1;33m:\u001b[0m\u001b[1;33m\u001b[0m\u001b[1;33m\u001b[0m\u001b[0m\n\u001b[0;32m      8\u001b[0m     \u001b[0mprint\u001b[0m\u001b[1;33m(\u001b[0m\u001b[1;34m\"\\nenter the amount in wallet\"\u001b[0m\u001b[1;33m,\u001b[0m\u001b[0mi\u001b[0m\u001b[1;33m+\u001b[0m\u001b[1;36m1\u001b[0m\u001b[1;33m)\u001b[0m\u001b[1;33m\u001b[0m\u001b[1;33m\u001b[0m\u001b[0m\n\u001b[1;32m----> 9\u001b[1;33m     \u001b[0ma\u001b[0m\u001b[1;33m=\u001b[0m\u001b[0mint\u001b[0m\u001b[1;33m(\u001b[0m\u001b[0minput\u001b[0m\u001b[1;33m(\u001b[0m\u001b[1;34m\"$\"\u001b[0m\u001b[1;33m)\u001b[0m\u001b[1;33m)\u001b[0m\u001b[1;33m\u001b[0m\u001b[1;33m\u001b[0m\u001b[0m\n\u001b[0m\u001b[0;32m     10\u001b[0m     \u001b[0mwallet\u001b[0m\u001b[1;33m.\u001b[0m\u001b[0mappend\u001b[0m\u001b[1;33m(\u001b[0m\u001b[0ma\u001b[0m\u001b[1;33m)\u001b[0m\u001b[1;33m\u001b[0m\u001b[1;33m\u001b[0m\u001b[0m\n\u001b[0;32m     11\u001b[0m \u001b[0mprint\u001b[0m\u001b[1;33m(\u001b[0m\u001b[1;34m\"\\n\"\u001b[0m\u001b[1;33m,\u001b[0m\u001b[0mwallet\u001b[0m\u001b[1;33m)\u001b[0m\u001b[1;33m\u001b[0m\u001b[1;33m\u001b[0m\u001b[0m\n",
      "\u001b[1;32m~\\anaconda3\\lib\\site-packages\\ipykernel\\kernelbase.py\u001b[0m in \u001b[0;36mraw_input\u001b[1;34m(self, prompt)\u001b[0m\n\u001b[0;32m    858\u001b[0m                 \u001b[1;34m\"raw_input was called, but this frontend does not support input requests.\"\u001b[0m\u001b[1;33m\u001b[0m\u001b[1;33m\u001b[0m\u001b[0m\n\u001b[0;32m    859\u001b[0m             )\n\u001b[1;32m--> 860\u001b[1;33m         return self._input_request(str(prompt),\n\u001b[0m\u001b[0;32m    861\u001b[0m             \u001b[0mself\u001b[0m\u001b[1;33m.\u001b[0m\u001b[0m_parent_ident\u001b[0m\u001b[1;33m,\u001b[0m\u001b[1;33m\u001b[0m\u001b[1;33m\u001b[0m\u001b[0m\n\u001b[0;32m    862\u001b[0m             \u001b[0mself\u001b[0m\u001b[1;33m.\u001b[0m\u001b[0m_parent_header\u001b[0m\u001b[1;33m,\u001b[0m\u001b[1;33m\u001b[0m\u001b[1;33m\u001b[0m\u001b[0m\n",
      "\u001b[1;32m~\\anaconda3\\lib\\site-packages\\ipykernel\\kernelbase.py\u001b[0m in \u001b[0;36m_input_request\u001b[1;34m(self, prompt, ident, parent, password)\u001b[0m\n\u001b[0;32m    902\u001b[0m             \u001b[1;32mexcept\u001b[0m \u001b[0mKeyboardInterrupt\u001b[0m\u001b[1;33m:\u001b[0m\u001b[1;33m\u001b[0m\u001b[1;33m\u001b[0m\u001b[0m\n\u001b[0;32m    903\u001b[0m                 \u001b[1;31m# re-raise KeyboardInterrupt, to truncate traceback\u001b[0m\u001b[1;33m\u001b[0m\u001b[1;33m\u001b[0m\u001b[1;33m\u001b[0m\u001b[0m\n\u001b[1;32m--> 904\u001b[1;33m                 \u001b[1;32mraise\u001b[0m \u001b[0mKeyboardInterrupt\u001b[0m\u001b[1;33m(\u001b[0m\u001b[1;34m\"Interrupted by user\"\u001b[0m\u001b[1;33m)\u001b[0m \u001b[1;32mfrom\u001b[0m \u001b[1;32mNone\u001b[0m\u001b[1;33m\u001b[0m\u001b[1;33m\u001b[0m\u001b[0m\n\u001b[0m\u001b[0;32m    905\u001b[0m             \u001b[1;32mexcept\u001b[0m \u001b[0mException\u001b[0m \u001b[1;32mas\u001b[0m \u001b[0me\u001b[0m\u001b[1;33m:\u001b[0m\u001b[1;33m\u001b[0m\u001b[1;33m\u001b[0m\u001b[0m\n\u001b[0;32m    906\u001b[0m                 \u001b[0mself\u001b[0m\u001b[1;33m.\u001b[0m\u001b[0mlog\u001b[0m\u001b[1;33m.\u001b[0m\u001b[0mwarning\u001b[0m\u001b[1;33m(\u001b[0m\u001b[1;34m\"Invalid Message:\"\u001b[0m\u001b[1;33m,\u001b[0m \u001b[0mexc_info\u001b[0m\u001b[1;33m=\u001b[0m\u001b[1;32mTrue\u001b[0m\u001b[1;33m)\u001b[0m\u001b[1;33m\u001b[0m\u001b[1;33m\u001b[0m\u001b[0m\n",
      "\u001b[1;31mKeyboardInterrupt\u001b[0m: Interrupted by user"
     ]
    }
   ],
   "source": [
    "##Imagine five wallets with different amounts of cash in them. Store these five values in a list, and print out the following sentences:\n",
    "##\"The fattest wallet has $ value in it.\"\n",
    "##\"The skinniest wallet has $ value in it.\"\n",
    "##\"All together, these wallets have $ value in them.\"\n",
    "\n",
    "wallet=[]\n",
    "for i in range(5):\n",
    "    print(\"\\nenter the amount in wallet\",i+1)\n",
    "    a=int(input(\"$\"))\n",
    "    wallet.append(a)\n",
    "print(\"\\n\",wallet)\n",
    "\n",
    "print(\"\\nThe fattest wallet has $\",max(wallet),\"value in it.\")\n",
    "print(\"\\nThe skinniest wallet has $\",min(wallet),\"value in it.\")\n",
    "print(\"\\nAll together, these wallets have $\",sum(wallet),\"value in them\")\n"
   ]
  },
  {
   "cell_type": "code",
   "execution_count": 13,
   "metadata": {},
   "outputs": [
    {
     "name": "stdout",
     "output_type": "stream",
     "text": [
      "\n",
      "Please Enter the no of elements in list- 20\n",
      "[10, 20, 30, 40, 50, 60, 70, 80, 90, 100, 110, 120, 130, 140, 150, 160, 170, 180, 190, 200]\n"
     ]
    }
   ],
   "source": [
    "##Make a list of the first ten multiples of ten (10, 20, 30... 90, 100).\n",
    "##There are a number of ways to do this, but try to do it using a list comprehension. Print out your list.\n",
    "\n",
    "lst=[]\n",
    "\n",
    "n=int(input(\"\\nPlease Enter the no of elements in list- \"))\n",
    "\n",
    "n=(n*10)+1\n",
    "for i in range(1,n):\n",
    "     if i%10==0:\n",
    "        value=int(i)\n",
    "        lst.append(value)\n",
    "\n",
    "print(lst)\n",
    "\n",
    "\n"
   ]
  },
  {
   "cell_type": "code",
   "execution_count": 14,
   "metadata": {},
   "outputs": [
    {
     "name": "stdout",
     "output_type": "stream",
     "text": [
      "\n",
      "Please Enter the no of elements in list- 10\n",
      "[1, 8, 27, 64, 125, 216, 343, 512, 729, 1000]\n"
     ]
    }
   ],
   "source": [
    "##We saw how to make a list of the first ten squares. Make a list of the first ten cubes (1, 8, 27... 1000) \n",
    "##using a list comprehension, and print them out.\n",
    "lst=[]\n",
    "\n",
    "n=int(input(\"\\nPlease Enter the no of elements in list- \"))\n",
    "\n",
    "n=n+1\n",
    "for i in range(1,n):\n",
    "        value=int(i*i*i)\n",
    "        lst.append(value)\n",
    "\n",
    "print(lst)\n"
   ]
  },
  {
   "cell_type": "code",
   "execution_count": 19,
   "metadata": {},
   "outputs": [
    {
     "name": "stdout",
     "output_type": "stream",
     "text": [
      "\n",
      "Please Enter the no of elements in list- 5\n",
      "ajit\n",
      "amit\n",
      "arijit\n",
      "sumit\n",
      "ramit\n",
      "['Ajit', 'Amit', 'Arijit', 'Sumit', 'Ramit']\n",
      "['Ajit is awesome!', 'Amit is awesome!', 'Arijit is awesome!', 'Sumit is awesome!', 'Ramit is awesome!']\n"
     ]
    }
   ],
   "source": [
    "##Store five names in a list. Make a second list that adds the phrase \"is awesome!\" to each name,\n",
    "##using a list comprehension.Print out the awesome version of the names\n",
    "\n",
    "lst=[]\n",
    "n=int(input(\"\\nPlease Enter the no of elements in list- \"))\n",
    "for i in range(n):\n",
    "    value=str(input())\n",
    "    lst.append(value.title())\n",
    "print(lst)\n",
    "\n",
    "lst1=[]\n",
    "for i in lst:\n",
    "    lst1.append(i.title()+\" is awesome!\")\n",
    "print(lst1)\n",
    "\n"
   ]
  },
  {
   "cell_type": "code",
   "execution_count": 28,
   "metadata": {},
   "outputs": [
    {
     "name": "stdout",
     "output_type": "stream",
     "text": [
      "Enter sentence -\n",
      "Free coding exercises and quizzes cover Python basics, data structure, data analytics, and more\n",
      "Free \n",
      "\n",
      "coding \n",
      "\n",
      "exercises \n",
      "\n",
      "and \n",
      "\n",
      "quizzes \n",
      "\n",
      "cover \n",
      "\n",
      "Python \n",
      "\n",
      "basics, \n",
      "\n",
      "data \n",
      "\n",
      "structure, \n",
      "\n",
      "data \n",
      "\n",
      "analytics, \n",
      "\n",
      "and \n",
      "\n",
      "more \n",
      "\n"
     ]
    }
   ],
   "source": [
    "##Store a single sentence in a variable. Use a for loop to print each character from your sentence on a separate line.\n",
    "sen=str(input(\"Enter sentence -\\n\"))\n",
    "for i in sen.split(\" \"):\n",
    "    print(i,\"\\n\")"
   ]
  },
  {
   "cell_type": "code",
   "execution_count": 27,
   "metadata": {},
   "outputs": [
    {
     "name": "stdout",
     "output_type": "stream",
     "text": [
      "Enter sentence -\n",
      "Free coding exercises and quizzes cover Python basics, data structure, data analytics, and more\n",
      "['Free', 'coding', 'exercises', 'and', 'quizzes', 'cover', 'Python', 'basics,', 'data', 'structure,', 'data', 'analytics,', 'and', 'more']\n"
     ]
    }
   ],
   "source": [
    "##Store a single sentence in a variable. Create a list from your sentence.\n",
    "##Print your raw list (don't use a loop, just print the list).\n",
    "lst=[]\n",
    "sen=str(input(\"Enter sentence -\\n\"))\n",
    "for i in sen.split(\" \"):\n",
    "    lst.append(i)\n",
    "print(lst)\n"
   ]
  },
  {
   "cell_type": "code",
   "execution_count": 48,
   "metadata": {},
   "outputs": [
    {
     "name": "stdout",
     "output_type": "stream",
     "text": [
      "Enter sentence -\n",
      "Store a single sentence in a variable. Use a for loop to print each character from your sentence on a separate line\n",
      "['Store', 'a', 'single', 'sentence', 'in']\n",
      "['loop', 'to', 'print', 'each', 'character']\n",
      "['sentence', 'on', 'a', 'separate', 'line']\n"
     ]
    }
   ],
   "source": [
    "##Store a sentence in a variable. Using slices, print out the first five characters, any five consecutive \n",
    "##characters from the middle of the sentence, and the last five characters of the sentence.\n",
    "lst=[]\n",
    "sen=str(input(\"Enter sentence -\\n\"))\n",
    "    \n",
    "print(sen.split(\" \")[:5])\n",
    "print(sen.split(\" \")[10:15])\n",
    "print(sen.split(\" \")[(len(sen.split(\" \"))-5):])\n",
    "\n"
   ]
  },
  {
   "cell_type": "code",
   "execution_count": 62,
   "metadata": {},
   "outputs": [
    {
     "name": "stdout",
     "output_type": "stream",
     "text": [
      "Enter sentence -\n",
      "\n",
      "This is python, it is awesome as python sting\n",
      "\n",
      "Python first appears in the sentence at 8 \n",
      "\n",
      "Last place Python appears in the sentence 33 \n",
      "\n",
      "Python appears in your sentence 2 times\n",
      "\n",
      "This \n",
      "\n",
      "Is \n",
      "\n",
      "Python, \n",
      "\n",
      "It \n",
      "\n",
      "Is \n",
      "\n",
      "Awesome \n",
      "\n",
      "As \n",
      "\n",
      "Python \n",
      "\n",
      "Sting \n",
      "\n",
      "This Is Ruby, It Is Awesome As Ruby Sting\n",
      "['This', 'Is', 'Python,', 'It', 'Is', 'Awesome', 'As', 'Python', 'Sting']\n"
     ]
    }
   ],
   "source": [
    "##Store a sentence in a variable, making sure you use the word Python at least twice in the sentence.\n",
    "#Use the in keyword to prove that the word Python is actually in the sentence.\n",
    "#Use the find() function to show where the word Python first appears in the sentence.\n",
    "#Use the rfind() function to show the last place Python appears in the sentence.\n",
    "#Use the count() function to show how many times the word Python appears in your sentence.\n",
    "#Use the split() function to break your sentence into a list of words. Print the raw list, \n",
    "#and use a loop to print each word on its own line.\n",
    "#Use the replace() function to change Python to Ruby in your sentence.\n",
    "\n",
    "lst=[]\n",
    "sen=str.title((input(\"Enter sentence -\\n\\n\")))\n",
    "print(\"\\nPython first appears in the sentence at\",sen.find(\"Python\"),\"\\n\")\n",
    "print(\"Last place Python appears in the sentence\",sen.rfind(\"Python\"),\"\\n\")\n",
    "print(\"Python appears in your sentence\",sen.count(\"Python\"),\"times\\n\")\n",
    "\n",
    "for i in sen.split(\" \"):\n",
    "    lst.append(i)\n",
    "    print(i,\"\\n\")\n",
    "    \n",
    "sen=sen.replace(\"Python\",\"Ruby\")\n",
    "print(sen)\n",
    "\n",
    "print(lst)"
   ]
  },
  {
   "cell_type": "code",
   "execution_count": null,
   "metadata": {},
   "outputs": [],
   "source": []
  }
 ],
 "metadata": {
  "kernelspec": {
   "display_name": "Python 3",
   "language": "python",
   "name": "python3"
  },
  "language_info": {
   "codemirror_mode": {
    "name": "ipython",
    "version": 3
   },
   "file_extension": ".py",
   "mimetype": "text/x-python",
   "name": "python",
   "nbconvert_exporter": "python",
   "pygments_lexer": "ipython3",
   "version": "3.8.5"
  }
 },
 "nbformat": 4,
 "nbformat_minor": 4
}
