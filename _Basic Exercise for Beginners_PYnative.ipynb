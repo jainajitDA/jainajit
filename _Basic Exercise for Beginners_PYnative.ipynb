{
 "cells": [
  {
   "cell_type": "code",
   "execution_count": null,
   "metadata": {},
   "outputs": [],
   "source": [
    "##Exercise 1: Given two integer numbers return their product. If the product is greater than 1000, then return their sum\n",
    "\n",
    "num1=int(input(\"Enter first no - \"))\n",
    "num2=int(input(\"Enter second no - \"))\n",
    "\n",
    "prod = num1 * num2\n",
    "\n",
    "if prod  > 1000:\n",
    "    print(\"Product is greater than 1000 \\n Sum - \",num1 + num2)\n",
    "else:\n",
    "    print(\"Product- \",prod)"
   ]
  },
  {
   "cell_type": "code",
   "execution_count": null,
   "metadata": {},
   "outputs": [],
   "source": [
    "##Exercise 2: Given a range of the first 10 numbers, Iterate from the start number to the end number, \n",
    "#and In each iteration print the sum of the current number and previous number\n",
    "\n",
    "n=int(input(\"Enter the range -\"))\n",
    "print(\"Printing current and previous number sum in a range(10)\")\n",
    "PNum=  0 \n",
    "for CNum in range(n):\n",
    "    Sum= CNum + PNum\n",
    "    print(\"Current Number \",CNum,\"Previous Number \",PNum,\"Sum \",Sum)\n",
    "    PNum= CNum"
   ]
  },
  {
   "cell_type": "code",
   "execution_count": null,
   "metadata": {},
   "outputs": [],
   "source": [
    "##Exercise 3: Given a string, display only those characters which are present at an even index number.\n",
    "s=str(input(\"Enter the string- \"))\n",
    "print(\"Orginal String \",s)\n",
    "\n",
    "print(\"Printing only even index chars\")\n",
    "a=0\n",
    "for i in range(len(s)):\n",
    "    if i%2==0:\n",
    "        p=s[i]\n",
    "        print(p)\n",
    "        a=i"
   ]
  },
  {
   "cell_type": "code",
   "execution_count": null,
   "metadata": {},
   "outputs": [],
   "source": [
    "##Exercise 4: Given a string and an integer number n, remove characters from a string starting from zero up to n and \n",
    "##return a new string\n",
    "\n",
    "s=str(input(\"Enter the string -\"))\n",
    "i=int(input(\"Enter the number -\"))\n",
    "\n",
    "print(s[i:])"
   ]
  },
  {
   "cell_type": "code",
   "execution_count": 23,
   "metadata": {},
   "outputs": [
    {
     "name": "stdout",
     "output_type": "stream",
     "text": [
      "Enter number of elements : 5\n",
      "10\n",
      "20\n",
      "30\n",
      "40\n",
      "50\n",
      "[10, 20, 30, 40, 50]\n",
      " first and last number of a list are not same-  False\n"
     ]
    }
   ],
   "source": [
    "##Exercise 5: Given a list of numbers, return True if first and last number of a list is same\n",
    "lis = []\n",
    "n = int(input(\"Enter number of elements : \"))\n",
    "  \n",
    "for i in range(n):\n",
    "    num= int(input())\n",
    "    lis.append(num)\n",
    "\n",
    "print(lis)\n",
    "\n",
    "if lis[0]==lis[-1]:\n",
    "    print(\"Result is\",True)\n",
    "else:\n",
    "    print(\" first and last number of a list are not same- \",False)\n",
    "    \n",
    "    "
   ]
  },
  {
   "cell_type": "code",
   "execution_count": 29,
   "metadata": {},
   "outputs": [
    {
     "name": "stdout",
     "output_type": "stream",
     "text": [
      "Enter the number of elemment- 5\n",
      "10\n",
      "11\n",
      "20\n",
      "22\n",
      "20\n",
      "[10, 11, 20, 22, 20]\n",
      "Numbers in list which are divisible of 5-  [10, 20, 20]\n"
     ]
    }
   ],
   "source": [
    "##Exercise 6: Given a list of numbers, Iterate it and print only those numbers which are divisible of 5\n",
    "\n",
    "lst= []\n",
    "nlst= []\n",
    "n =int(input(\"Enter the number of elemment- \"))\n",
    "\n",
    "for i in range(n):\n",
    "    num=int(input())\n",
    "    lst.append(num)\n",
    "    \n",
    "print(lst)\n",
    "\n",
    "for i in range(n):\n",
    "    if lst[i]%5==0:\n",
    "        new=lst[i]\n",
    "        nlst.append(new)\n",
    "print(\"Numbers in list which are divisible of 5- \",nlst)        "
   ]
  },
  {
   "cell_type": "code",
   "execution_count": 32,
   "metadata": {},
   "outputs": [
    {
     "name": "stdout",
     "output_type": "stream",
     "text": [
      "Enter the number of elemment- 3\n",
      "10\n",
      "1 Numbers in list which are divisible of 5-  10\n",
      "12\n",
      "2 Numbers in list which are divisible of 5-  10\n",
      "15\n",
      "3 Numbers in list which are divisible of 5-  10\n",
      "3 Numbers in list which are divisible of 5-  15\n",
      "[10, 12, 15]\n"
     ]
    }
   ],
   "source": [
    "##or\n",
    "\n",
    "lst= []\n",
    "n =int(input(\"Enter the number of elemment- \"))\n",
    "\n",
    "for i in range(n):\n",
    "    num=int(input())\n",
    "    lst.append(num)\n",
    "    \n",
    "print(lst)\n",
    "\n",
    "for num in lst:\n",
    "    if num%5==0:\n",
    "        print(\"Numbers in list which are divisible of 5- \",num)   "
   ]
  },
  {
   "cell_type": "code",
   "execution_count": 38,
   "metadata": {},
   "outputs": [
    {
     "name": "stdout",
     "output_type": "stream",
     "text": [
      "Enter the String with 'Emma' - st.count(\"Emma\")\n",
      "Emma appeared 1 times\n"
     ]
    }
   ],
   "source": [
    "##Exercise 7: Return the count of sub-string “Emma” appears in the given string\n",
    "st=str(input(\"Enter the String with 'Emma' - \"))\n",
    "\n",
    "c= st.count(\"Emma\") + st.count(\"emma\")\n",
    "print(\"Emma appeared\",c,\"times\")\n"
   ]
  },
  {
   "cell_type": "code",
   "execution_count": 72,
   "metadata": {},
   "outputs": [
    {
     "name": "stdout",
     "output_type": "stream",
     "text": [
      "Enter the range -5\n",
      "1\n",
      "22\n",
      "333\n",
      "4444\n",
      "55555\n"
     ]
    }
   ],
   "source": [
    "##Exercise 8: Print the following pattern\n",
    "##1 \n",
    "##2 2 \n",
    "##3 3 3 \n",
    "##4 4 4 4 \n",
    "##5 5 5 5 5\n",
    "\n",
    "\n",
    "n = int(input(\"Enter the range -\"))\n",
    "\n",
    "for i in range(1,n+1):\n",
    "        print(str(i)*(i))\n",
    "       ## print(\" \"*(n-i),str(i)*(i))\n",
    "    \n",
    "\n"
   ]
  },
  {
   "cell_type": "code",
   "execution_count": 77,
   "metadata": {},
   "outputs": [],
   "source": [
    "##Exercise 9: Reverse a given number and return true if it is the same as the original numbe\n",
    "def reverse(a):\n",
    "    a= str(a)\n",
    "    b= a[::-1]\n",
    "    b=int(b)\n",
    "\n",
    "    return b\n",
    "\n"
   ]
  },
  {
   "cell_type": "code",
   "execution_count": 79,
   "metadata": {},
   "outputs": [
    {
     "name": "stdout",
     "output_type": "stream",
     "text": [
      "Enter the number- 110011\n",
      "Reverse is True\n"
     ]
    }
   ],
   "source": [
    "a= int(input(\"Enter the number- \"))\n",
    "b= reverse(a)\n",
    "if a==b:\n",
    "    print(\"Reverse is\",True)\n",
    "else:\n",
    "    print(\"reverse is\",False)\n",
    "    "
   ]
  },
  {
   "cell_type": "code",
   "execution_count": null,
   "metadata": {},
   "outputs": [],
   "source": [
    "##Exercise 10: Given a two list of numbers create a new list such that new list should contain only odd numbers from the first list and even numbers from the second list"
   ]
  },
  {
   "cell_type": "code",
   "execution_count": 102,
   "metadata": {},
   "outputs": [
    {
     "name": "stdout",
     "output_type": "stream",
     "text": [
      "enter the number of element in list 1- 1\n",
      "enter the number of element in list 2- 1\n",
      "enter the element in list 1-2\n",
      "enter the element in list 2-3\n",
      "List 1 - [2] \n",
      "\n",
      "List 2 - [3] \n",
      "\n",
      "\n",
      "final list - [2, 3]\n"
     ]
    }
   ],
   "source": [
    "lst1=[]\n",
    "lst2=[]\n",
    "lst=[]\n",
    "\n",
    "n1=int(input(\"enter the number of element in list 1- \"))\n",
    "\n",
    "n2=int(input(\"enter the number of element in list 2- \"))\n",
    "\n",
    "\n",
    "for i in range(n1):\n",
    "    num=int(input(\"enter the element in list 1-\"))\n",
    "    lst1.append(num)\n",
    "    \n",
    "for i in range(n2):\n",
    "    num=int(input(\"enter the element in list 2-\"))\n",
    "    lst2.append(num)\n",
    "    \n",
    "print(\"List 1 -\",lst1, \"\\n\")\n",
    "\n",
    "print(\"List 2 -\",lst2, \"\\n\")\n",
    "\n",
    "for i in range(n1):\n",
    "    if lst1[i]%2==0:\n",
    "        num= lst1[i] \n",
    "        lst.append(num)\n",
    "for i in range(n2):        \n",
    "    if lst2[i]%2!=0:    \n",
    "        num= lst2[i] \n",
    "        lst.append(num)\n",
    "print(\"\\nfinal list -\",lst)"
   ]
  },
  {
   "cell_type": "code",
   "execution_count": 105,
   "metadata": {},
   "outputs": [
    {
     "name": "stdout",
     "output_type": "stream",
     "text": [
      "Enter the digit -552353232\n",
      "Orignal Digit - 552353232\n",
      "\n",
      "Reverse Digit - 232353255\n"
     ]
    }
   ],
   "source": [
    "##Exercise 11: Write a code to extract each digit from an integer, in the reverse order\n",
    "num=int(input(\"Enter the digit -\"))\n",
    "num=str(num)\n",
    "newnum=num[::-1]\n",
    "newnum=int(newnum)\n",
    "print(\"Orignal Digit -\", num)\n",
    "print(\"\\nReverse Digit -\",newnum)"
   ]
  },
  {
   "cell_type": "code",
   "execution_count": 111,
   "metadata": {},
   "outputs": [
    {
     "name": "stdout",
     "output_type": "stream",
     "text": [
      "Enter your income- $12000\n",
      "Your tax -$ 200.0\n"
     ]
    }
   ],
   "source": [
    "##Exercise 12: Calculate income tax for the given income by adhering to the below rules\n",
    "inc=int(input(\"Enter your income- $\"))\n",
    "\n",
    "if inc<=10000:\n",
    "    tax=inc*0\n",
    "    print(\"Your tax -$\",tax)\n",
    "if inc>10000 and inc<=20000:\n",
    "    tax=(10000*0)+((inc-10000)*.10)\n",
    "    print(\"Your tax -$\",tax)\n",
    "if inc>20000:\n",
    "    tax=(10000*0)+(10000*.10)+((inc-20000)*.20)\n",
    "    print(\"Your tax -$\",tax)\n",
    "    \n"
   ]
  },
  {
   "cell_type": "code",
   "execution_count": 124,
   "metadata": {},
   "outputs": [
    {
     "name": "stdout",
     "output_type": "stream",
     "text": [
      "1 2 3 4 5 6 7 8 9 10 \t\t\n",
      "2 4 6 8 10 12 14 16 18 20 \t\t\n",
      "3 6 9 12 15 18 21 24 27 30 \t\t\n",
      "4 8 12 16 20 24 28 32 36 40 \t\t\n",
      "5 10 15 20 25 30 35 40 45 50 \t\t\n",
      "6 12 18 24 30 36 42 48 54 60 \t\t\n",
      "7 14 21 28 35 42 49 56 63 70 \t\t\n",
      "8 16 24 32 40 48 56 64 72 80 \t\t\n",
      "9 18 27 36 45 54 63 72 81 90 \t\t\n",
      "10 20 30 40 50 60 70 80 90 100 \t\t\n"
     ]
    }
   ],
   "source": [
    "##Exercise 13: Print multiplication table form 1 to 10\n",
    "\n",
    "for i in range(1, 11):\n",
    "    for j in range(1, 11):\n",
    "        print(i * j,end=\" \")\n",
    "    print(\"\\t\\t\")\n",
    "    "
   ]
  },
  {
   "cell_type": "code",
   "execution_count": 3,
   "metadata": {},
   "outputs": [
    {
     "name": "stdout",
     "output_type": "stream",
     "text": [
      "**********\n",
      "*********\n",
      "********\n",
      "*******\n",
      "******\n",
      "*****\n",
      "****\n",
      "***\n",
      "**\n",
      "*\n"
     ]
    }
   ],
   "source": [
    "##Exercise 14: Print downward Half-Pyramid Pattern with Star (asterisk)\n",
    "for i in range (10):\n",
    "    print(\"*\"*(10-i))"
   ]
  },
  {
   "cell_type": "code",
   "execution_count": 45,
   "metadata": {},
   "outputs": [],
   "source": [
    "##Exercise 15: Write a function called exponent(base, exp) that returns an int value of base raises to the power of exp.\n",
    "\n",
    "def exponent(base, exp):\n",
    "    lst=[]\n",
    "    for i in range((exp)):\n",
    "        num=int(base)\n",
    "        lst.append(num)\n",
    "    \n",
    "    res=1\n",
    "    for i in lst:\n",
    "        res=res*i\n",
    "        \n",
    "    print(\"exopnent -\",res)\n",
    "    return res    \n",
    "    \n",
    "    "
   ]
  },
  {
   "cell_type": "code",
   "execution_count": 46,
   "metadata": {},
   "outputs": [
    {
     "name": "stdout",
     "output_type": "stream",
     "text": [
      "exopnent - 121\n"
     ]
    },
    {
     "data": {
      "text/plain": [
       "121"
      ]
     },
     "execution_count": 46,
     "metadata": {},
     "output_type": "execute_result"
    }
   ],
   "source": [
    "exponent(11,2)"
   ]
  },
  {
   "cell_type": "code",
   "execution_count": null,
   "metadata": {},
   "outputs": [],
   "source": []
  }
 ],
 "metadata": {
  "kernelspec": {
   "display_name": "Python 3",
   "language": "python",
   "name": "python3"
  },
  "language_info": {
   "codemirror_mode": {
    "name": "ipython",
    "version": 3
   },
   "file_extension": ".py",
   "mimetype": "text/x-python",
   "name": "python",
   "nbconvert_exporter": "python",
   "pygments_lexer": "ipython3",
   "version": "3.8.5"
  }
 },
 "nbformat": 4,
 "nbformat_minor": 4
}
