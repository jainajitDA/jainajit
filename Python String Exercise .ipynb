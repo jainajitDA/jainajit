{
 "cells": [
  {
   "cell_type": "code",
   "execution_count": 11,
   "metadata": {},
   "outputs": [
    {
     "name": "stdout",
     "output_type": "stream",
     "text": [
      "Enter the string- \n",
      "\n",
      "imarticuslearninginc\n",
      "20\n",
      "lea\n"
     ]
    }
   ],
   "source": [
    "##Exercise 1: Given a string of odd length greater than 7, return a new string made of the middle three \n",
    "##characters of a given String\n",
    "s=str(input(\"Enter the string- \\n\\n\"))\n",
    "l=len(s)\n",
    "print(l)\n",
    "while len(s) < 7:\n",
    "    print(\"!Enter a string greater than length 7!\")\n",
    "    s=str(input(\"Enter the string\"))\n",
    "    \n",
    "else:\n",
    "    ns=str(s[round((l/2)-1):round((l/2)+2)])\n",
    "    print(ns)\n",
    "\n"
   ]
  },
  {
   "cell_type": "code",
   "execution_count": 14,
   "metadata": {},
   "outputs": [
    {
     "name": "stdout",
     "output_type": "stream",
     "text": [
      "Enter the string- \n",
      "\n",
      "atul\n",
      "Enter the string- \n",
      "\n",
      "kelly\n",
      "atkellyul\n"
     ]
    }
   ],
   "source": [
    "#Exercise 2: Given two strings, s1 and s2, create a new string by appending s2 in the middle of s1\n",
    "s1=str(input(\"Enter the string- \\n\\n\"))\n",
    "s2=str(input(\"Enter the string- \\n\\n\"))\n",
    "l=round(len(s1)/2)\n",
    "s3=s1[:l]+s2+s1[l:]\n",
    "print(s3)\n"
   ]
  },
  {
   "cell_type": "code",
   "execution_count": null,
   "metadata": {},
   "outputs": [],
   "source": [
    "##Exercise Question 3: Given two strings, s1, and s2 return a new string made of the first, \n",
    "##middle, and last characters each input string"
   ]
  }
 ],
 "metadata": {
  "kernelspec": {
   "display_name": "Python 3",
   "language": "python",
   "name": "python3"
  },
  "language_info": {
   "codemirror_mode": {
    "name": "ipython",
    "version": 3
   },
   "file_extension": ".py",
   "mimetype": "text/x-python",
   "name": "python",
   "nbconvert_exporter": "python",
   "pygments_lexer": "ipython3",
   "version": "3.8.5"
  }
 },
 "nbformat": 4,
 "nbformat_minor": 4
}
