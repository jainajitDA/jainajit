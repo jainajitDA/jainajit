{
 "cells": [
  {
   "cell_type": "code",
   "execution_count": 2,
   "metadata": {},
   "outputs": [
    {
     "name": "stdout",
     "output_type": "stream",
     "text": [
      "ajit 26\n"
     ]
    }
   ],
   "source": [
    "##Exercise 1: Create a function that can accept two arguments name and age and print its value\n",
    "def prof(name,age):\n",
    "    print(name,age)\n",
    "    \n",
    "\n",
    "prof(\"\",)"
   ]
  },
  {
   "cell_type": "code",
   "execution_count": 3,
   "metadata": {},
   "outputs": [
    {
     "name": "stdout",
     "output_type": "stream",
     "text": [
      "20\n",
      "12\n",
      "13\n",
      "43\n"
     ]
    }
   ],
   "source": [
    "##Exercise 2: Write a function func1() such that it can accept a variable length of  argument and print all arguments value\n",
    "\n",
    "def func1(*var):\n",
    "    for i in var:\n",
    "        print(i)\n",
    "        \n",
    "func1(20,12,13,43)        "
   ]
  },
  {
   "cell_type": "code",
   "execution_count": 4,
   "metadata": {},
   "outputs": [],
   "source": [
    "##Exercise 3: Write a function calculation() such that it can accept two variables and \n",
    "##calculate the addition and subtraction of them. And also it must return both addition and \n",
    "##subtraction in a single return call\n",
    "\n",
    "def calculation(a,b):\n",
    "    sum=a+b\n",
    "    sub=a-b\n",
    "    print(\"Addition -\",sum,\"Subtraction -\",sub)\n",
    "    \n",
    "    return sum,sub\n",
    "    \n",
    "    "
   ]
  },
  {
   "cell_type": "code",
   "execution_count": 5,
   "metadata": {},
   "outputs": [
    {
     "name": "stdout",
     "output_type": "stream",
     "text": [
      "Addition - 7 Subtraction - 3\n"
     ]
    },
    {
     "data": {
      "text/plain": [
       "(7, 3)"
      ]
     },
     "execution_count": 5,
     "metadata": {},
     "output_type": "execute_result"
    }
   ],
   "source": [
    "calculation(5,2)"
   ]
  },
  {
   "cell_type": "code",
   "execution_count": 7,
   "metadata": {},
   "outputs": [
    {
     "name": "stdout",
     "output_type": "stream",
     "text": [
      "ram 9000\n"
     ]
    }
   ],
   "source": [
    "##Exercise 4: Create a function showEmployee() in such a way that it should accept employee name, \n",
    "##and its salary and display both. If the salary is missing in the function call assign default value 9000 to salary\n",
    "\n",
    "def showEmployee(name,sal=9000):\n",
    "    print(name,sal)\n",
    "    \n",
    "showEmployee(\"ram\")"
   ]
  },
  {
   "cell_type": "code",
   "execution_count": 19,
   "metadata": {},
   "outputs": [],
   "source": [
    "##Exercise 5: Create an inner function to calculate the addition in the following way\n",
    "##Create an outer function that will accept two parameters, a and b\n",
    "##Create an inner function inside an outer function that will calculate the addition of a and b\n",
    "##At last, an outer function will add 5 into addition and return it\n",
    "\n",
    "def outter():\n",
    "    a=int(input(\"first\"))\n",
    "    b=int(input(\"second\"))\n",
    "    def inner(a,b):\n",
    "        sum=a+b\n",
    "        return sum\n",
    "    \n",
    "    sum=inner(a,b)\n",
    "    fin=sum+5\n",
    "    return fin\n",
    "    \n",
    "outter()     "
   ]
  },
  {
   "cell_type": "code",
   "execution_count": 23,
   "metadata": {},
   "outputs": [],
   "source": [
    "##Exercise 6: Write a recursive function to calculate the sum of numbers from 0 to 10\n",
    "def recursive():\n",
    "    n=int(input(\"Enter the range-\"))\n",
    "    sum=0\n",
    "    for i in range(n+1):\n",
    "        sum=sum+i\n",
    "    print(\"Sum-\",sum)\n",
    "    \n",
    "    return sum"
   ]
  },
  {
   "cell_type": "code",
   "execution_count": 25,
   "metadata": {},
   "outputs": [
    {
     "name": "stdout",
     "output_type": "stream",
     "text": [
      "Enter the range-10\n",
      "Sum- 55\n"
     ]
    }
   ],
   "source": [
    "##Exercise 7: Assign a different name to function and call it through the new name\n",
    "def newrecursive():\n",
    "    recursive()\n",
    "\n",
    "newrecursive()"
   ]
  },
  {
   "cell_type": "code",
   "execution_count": 27,
   "metadata": {},
   "outputs": [
    {
     "name": "stdout",
     "output_type": "stream",
     "text": [
      "Enter start range-2\n",
      "Enter end range-20\n",
      "[2, 4, 6, 8, 10, 12, 14, 16, 18, 20]\n"
     ]
    }
   ],
   "source": [
    "##Exercise 8: Generate a Python list of all the even numbers between 4 to 30\n",
    "s=int(input(\"Enter start range-\"))\n",
    "l=int(input(\"Enter end range-\"))\n",
    "\n",
    "lst=[]\n",
    "\n",
    "\n",
    "while s>0 and s<l:\n",
    "    for i in range(s,l+1):\n",
    "        if i%2==0:\n",
    "            lst.append(i)\n",
    "    print(lst)\n",
    "    break\n",
    "else:\n",
    "    print(\"Enter proper range\")"
   ]
  },
  {
   "cell_type": "code",
   "execution_count": 31,
   "metadata": {},
   "outputs": [
    {
     "name": "stdout",
     "output_type": "stream",
     "text": [
      "Enter end range-3\n",
      "123\n",
      "134\n",
      "132\n",
      "[123, 134, 132]\n",
      "134\n"
     ]
    }
   ],
   "source": [
    "##Exercise 9: Return the largest item from the given list\n",
    "l=int(input(\"Enter end range-\"))\n",
    "\n",
    "lst=[]\n",
    "\n",
    "for i in range(l):\n",
    "        n=int(input())\n",
    "        lst.append(n)\n",
    "    \n",
    "print(lst)\n",
    "\n",
    "print(max(lst))"
   ]
  },
  {
   "cell_type": "code",
   "execution_count": null,
   "metadata": {},
   "outputs": [],
   "source": []
  }
 ],
 "metadata": {
  "kernelspec": {
   "display_name": "Python 3",
   "language": "python",
   "name": "python3"
  },
  "language_info": {
   "codemirror_mode": {
    "name": "ipython",
    "version": 3
   },
   "file_extension": ".py",
   "mimetype": "text/x-python",
   "name": "python",
   "nbconvert_exporter": "python",
   "pygments_lexer": "ipython3",
   "version": "3.8.5"
  }
 },
 "nbformat": 4,
 "nbformat_minor": 4
}
