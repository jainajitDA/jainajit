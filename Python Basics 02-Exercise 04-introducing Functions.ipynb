{
 "cells": [
  {
   "cell_type": "code",
   "execution_count": null,
   "metadata": {},
   "outputs": [],
   "source": [
    "##Write a function that takes in a person's name, and prints out a greeting.\n",
    "#The greeting must be at least three lines, and the person's name must be in each line.\n",
    "#Use your function to greet at least three different people.\n",
    "#Bonus: Store your three people in a list, and call your function from a for loop\n",
    "\n",
    "def greetings(name):\n",
    "    for i in name:\n",
    "        print(\"\\nWelcome on board\",i)\n",
    "        \n",
    "\n",
    "name=[]\n",
    "num=int(input(\"\\nEnter the no of name -\"))\n",
    "\n",
    "for j in range(num):\n",
    "    n=str(input(\"\\nEnter the name-\"))\n",
    "    name.append(n)\n",
    "\n",
    "greetings(name)\n",
    "    "
   ]
  },
  {
   "cell_type": "code",
   "execution_count": null,
   "metadata": {},
   "outputs": [],
   "source": [
    "##Write a function that takes in a first name and a last name, and prints out a nicely formatted full name, in a sentence.\n",
    "##Your sentence could be as simple as, \"Hello, full_name.\" Call your function three times, with a different name each time\n",
    "\n",
    "def fullname(f,l):\n",
    "    print(\"Hello,\",f,l)\n",
    "\n",
    "for i in range(3):\n",
    "    f=str(input(\"Enter first name-\"))\n",
    "    l=str(input(\"Enter last name-\"))\n",
    "    fullname(f,l)"
   ]
  },
  {
   "cell_type": "code",
   "execution_count": null,
   "metadata": {},
   "outputs": [],
   "source": [
    "##Write a function that takes in two numbers, and adds them together. \n",
    "#Make your function print out a sentence showing the two numbers, and the result.\n",
    "##Call your function with three different sets of numbers.\n",
    "\n",
    "def add(f,l):\n",
    "    for i in range(3):\n",
    "        f=int(input(\"Enter first num-\"))\n",
    "        l=int(input(\"Enter second num-\"))\n",
    "        print(\"Hello,\\nThe sum of\",f,\"&\",l,\"is\",f+l)\n",
    "\n",
    "    \n",
    "add(f,l)"
   ]
  },
  {
   "cell_type": "code",
   "execution_count": null,
   "metadata": {},
   "outputs": [],
   "source": [
    "def add(f,l):\n",
    "    s=f+l\n",
    "    return s\n",
    "\n",
    "for i in range(3):\n",
    "    f=int(input(\"Enter first num-\"))\n",
    "    l=int(input(\"Enter second num-\"))\n",
    "    sum = add(f,l)\n",
    "    print(\"Hello,\\nThe sum of\",f,\"&\",l,\"is\",sum)\n"
   ]
  },
  {
   "cell_type": "code",
   "execution_count": null,
   "metadata": {},
   "outputs": [],
   "source": []
  },
  {
   "cell_type": "code",
   "execution_count": null,
   "metadata": {},
   "outputs": [],
   "source": []
  }
 ],
 "metadata": {
  "kernelspec": {
   "display_name": "Python 3",
   "language": "python",
   "name": "python3"
  },
  "language_info": {
   "codemirror_mode": {
    "name": "ipython",
    "version": 3
   },
   "file_extension": ".py",
   "mimetype": "text/x-python",
   "name": "python",
   "nbconvert_exporter": "python",
   "pygments_lexer": "ipython3",
   "version": "3.8.5"
  }
 },
 "nbformat": 4,
 "nbformat_minor": 4
}
