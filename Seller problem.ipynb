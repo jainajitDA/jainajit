{
 "cells": [
  {
   "cell_type": "code",
   "execution_count": 4,
   "metadata": {},
   "outputs": [],
   "source": [
    "def vege(a):\n",
    "    print(\"welcome to vegetable market - ask for price\")\n",
    "    while True:    \n",
    "        veg=int(input(\"Enter the price vegetable- \"))\n",
    "        cal=a-veg\n",
    "        if veg<=600 and veg>500:\n",
    "            print(\"buy\")\n",
    "            bal=a-veg\n",
    "            print(\"balance - \",bal)\n",
    "            return cal\n",
    "        else:\n",
    "            res=str(input(\"move to next shop or buy?\"))\n",
    "            if res.lower()==\"buy\":\n",
    "                bal=a-veg\n",
    "                print(\"balance - \",bal)\n",
    "                return cal"
   ]
  },
  {
   "cell_type": "code",
   "execution_count": 5,
   "metadata": {},
   "outputs": [],
   "source": [
    "def fruit(a):\n",
    "    print(\"welcome to fruit market - ask for price\")\n",
    "    while True:    \n",
    "        fru=int(input(\"Enter the price for fruits- \"))\n",
    "        cal=a-fru\n",
    "        if fru<150 and fru>110:\n",
    "            print(\"buy\")\n",
    "            bal=a-fru\n",
    "            print(\"balance - \",bal)\n",
    "            return cal\n",
    "        else:\n",
    "            res=str(input(\"move to next shop or buy?\"))\n",
    "            if res.lower()==\"buy\":\n",
    "                bal=a-fru\n",
    "                print(\"balance - \",bal)\n",
    "                return cal"
   ]
  },
  {
   "cell_type": "code",
   "execution_count": 40,
   "metadata": {},
   "outputs": [
    {
     "name": "stdout",
     "output_type": "stream",
     "text": [
      "What you want to buy first - fruits or vegetable -vegetable\n",
      "welcome to vegetable market - ask for price\n",
      "Enter the price vegetable- 50\n",
      "move to next shop or buy?buy\n",
      "balance -  850\n",
      "Do you want to buy fruits -yes\n",
      "welcome to fruit market - ask for price\n",
      "Enter the price for fruits- 900\n",
      "move to next shop or buy?buy\n",
      "balance -  -50\n",
      "No sufficient funds\n",
      "welcome to fruit market - ask for price\n",
      "Enter the price for fruits- 120\n",
      "buy\n",
      "balance -  730\n",
      "happy Shopping\n"
     ]
    }
   ],
   "source": [
    "a = int(900)\n",
    "b=str(input(\"What you want to buy first - fruits or vegetable -\"))\n",
    "if b.lower()==\"vegetable\":\n",
    "    c= vege(a)\n",
    "    while c<0:\n",
    "        print(\"No sufficient funds\")\n",
    "        c=vega(a)\n",
    "    else:\n",
    "        f=str(input(\"Do you want to buy fruits -\"))\n",
    "        if f.lower()==\"yes\":\n",
    "            d=fruit(c)\n",
    "\n",
    "            while d<0:\n",
    "               print(\"No sufficient funds\")\n",
    "               d=fruit(c)\n",
    "\n",
    "            if d>0:\n",
    "                 print(\"happy Shopping\")\n",
    "\n",
    "        \n",
    "if b.lower()==\"fruits\":\n",
    "    c= fruit(a)\n",
    "    while c<0:\n",
    "            print(\"No sufficient funds\")\n",
    "            c=fruit(a)\n",
    "    else:\n",
    "        v=str(input(\"Do you want to buy vegetables -\"))\n",
    "        if v.lower()==\"yes\":\n",
    "                d=vege(c)\n",
    "\n",
    "\n",
    "                while d<0:\n",
    "                    print(\"No sufficient funds\")\n",
    "                    d=vege(c)\n",
    "\n",
    "                if d>0:\n",
    "                        print(\"happy Shopping\")\n",
    "\n",
    "     \n",
    "        \n",
    "\n",
    "            "
   ]
  },
  {
   "cell_type": "code",
   "execution_count": null,
   "metadata": {},
   "outputs": [],
   "source": []
  },
  {
   "cell_type": "code",
   "execution_count": null,
   "metadata": {},
   "outputs": [],
   "source": []
  },
  {
   "cell_type": "code",
   "execution_count": null,
   "metadata": {},
   "outputs": [],
   "source": []
  }
 ],
 "metadata": {
  "kernelspec": {
   "display_name": "Python 3",
   "language": "python",
   "name": "python3"
  }
 },
 "nbformat": 4,
 "nbformat_minor": 4
}
