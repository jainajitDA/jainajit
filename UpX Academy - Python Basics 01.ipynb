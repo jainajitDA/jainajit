{
 "cells": [
  {
   "cell_type": "code",
   "execution_count": null,
   "metadata": {},
   "outputs": [],
   "source": [
    "##https://github.com/aayushkubb/Python_Tutorial/blob/master/Python%20Basic%20Assignment/Exercise_01_-_Python_Basics.ipynb"
   ]
  },
  {
   "cell_type": "code",
   "execution_count": 2,
   "metadata": {},
   "outputs": [
    {
     "name": "stdout",
     "output_type": "stream",
     "text": [
      "Hello World\n"
     ]
    }
   ],
   "source": [
    "##Store your own version of the message \"Hello World\" in a variable, and print it.\n",
    "\n",
    "message = str(\"Hello World\")\n",
    "print(message)"
   ]
  },
  {
   "cell_type": "code",
   "execution_count": 3,
   "metadata": {},
   "outputs": [
    {
     "name": "stdout",
     "output_type": "stream",
     "text": [
      "Hello World\n",
      "Wrong Number\n"
     ]
    }
   ],
   "source": [
    "##Store a message in a variable, and then print that message. Store a new message in the same variable, and then print that new message.\n",
    "\n",
    "message = str(\"Hello World\")\n",
    "print(message)\n",
    "message = str(\"Wrong Number\")\n",
    "print(message)"
   ]
  },
  {
   "cell_type": "code",
   "execution_count": 6,
   "metadata": {},
   "outputs": [
    {
     "name": "stdout",
     "output_type": "stream",
     "text": [
      "ajit\n",
      "Ajit\n",
      "AJIT\n"
     ]
    }
   ],
   "source": [
    "##Store your first name, in lowercase, in a variable. Using that one variable, print your name in lowercase, Titlecase, and UPPERCASE.\n",
    "\n",
    "fname=str(\"ajit\")\n",
    "print(fname.lower())\n",
    "print(fname.title())\n",
    "print(fname.upper())"
   ]
  },
  {
   "cell_type": "code",
   "execution_count": 11,
   "metadata": {},
   "outputs": [
    {
     "name": "stdout",
     "output_type": "stream",
     "text": [
      "My name is Ajit jain\n"
     ]
    }
   ],
   "source": [
    "#Choose a person you look up to. Store their first and last names in separate variables.\n",
    "#Use concatenation to make a sentence about this person, and store that sentence in a variable.Print the sentence.\n",
    "\n",
    "fname=str(\"ajit\")\n",
    "lname=str(\"JAIN\")\n",
    "\n",
    "sen=\"My name is\"+\" \"+fname.title()+\" \"+lname.lower()\n",
    "print(sen)"
   ]
  },
  {
   "cell_type": "code",
   "execution_count": 13,
   "metadata": {},
   "outputs": [
    {
     "name": "stdout",
     "output_type": "stream",
     "text": [
      "  Ajit  \n",
      "Ajit  \n",
      "  Ajit\n",
      "Ajit\n"
     ]
    }
   ],
   "source": [
    "##Store your first name in a variable, but include at least two kinds of whitespace on each side of your name.\n",
    "##Print your name as it is stored. Print your name with whitespace stripped from the left side, then from the right side, then from both sides.\n",
    "\n",
    "name = \"  Ajit  \"\n",
    "print(name)\n",
    "print(name.lstrip())\n",
    "print(name.rstrip())\n",
    "print(name.strip())"
   ]
  },
  {
   "cell_type": "code",
   "execution_count": null,
   "metadata": {},
   "outputs": [],
   "source": []
  }
 ],
 "metadata": {
  "kernelspec": {
   "display_name": "Python 3",
   "language": "python",
   "name": "python3"
  },
  "language_info": {
   "codemirror_mode": {
    "name": "ipython",
    "version": 3
   },
   "file_extension": ".py",
   "mimetype": "text/x-python",
   "name": "python",
   "nbconvert_exporter": "python",
   "pygments_lexer": "ipython3",
   "version": "3.8.5"
  }
 },
 "nbformat": 4,
 "nbformat_minor": 4
}
