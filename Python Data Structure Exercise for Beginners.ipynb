{
 "cells": [
  {
   "cell_type": "code",
   "execution_count": 14,
   "metadata": {},
   "outputs": [
    {
     "name": "stdout",
     "output_type": "stream",
     "text": [
      "[6, 12, 18, 4, 12, 20, 28]\n"
     ]
    }
   ],
   "source": [
    "#Exercise 1: Given two lists create a third list by picking an odd-index element from the first list and even\n",
    "#index elements from the second.\n",
    "list1 = [3, 6, 9, 12, 15, 18, 21]\n",
    "list2 = [4, 8, 12, 16, 20, 24, 28]\n",
    "lis=[]\n",
    "\n",
    "for i in range(len(list1)):\n",
    "    if i%2!=0:\n",
    "        lis.append(list1[i])\n",
    "\n",
    "for i in range(len(list2)):\n",
    "    if i%2==0:\n",
    "        lis.append(list2[i])\n",
    "print(lis)"
   ]
  },
  {
   "cell_type": "code",
   "execution_count": 19,
   "metadata": {},
   "outputs": [
    {
     "name": "stdout",
     "output_type": "stream",
     "text": [
      "[54, 44, 11, 27, 79, 41, 11]\n"
     ]
    }
   ],
   "source": [
    "#Exercise 2: Given a list, remove the element at index 4 and add it to the 2nd position and at the end of the list\n",
    "list1 = [54, 44, 27, 79, 91, 41]\n",
    "list1.pop(4)\n",
    "list1.insert(2,11)\n",
    "list1.append(11)\n",
    "print(list1)"
   ]
  },
  {
   "cell_type": "code",
   "execution_count": 34,
   "metadata": {},
   "outputs": [
    {
     "name": "stdout",
     "output_type": "stream",
     "text": [
      "[11, 45, 8]\n",
      "[23, 14, 12]\n",
      "[78, 45, 89]\n",
      "[8, 45, 11]\n",
      "[12, 14, 23]\n",
      "[89, 45, 78]\n"
     ]
    }
   ],
   "source": [
    "##Exercise 3: Given a list slice it into 3 equal chunks and reverse each chunk\n",
    "\n",
    "sampleList = [11, 45, 8, 23, 14, 12, 78, 45, 89]\n",
    "l=round((len(sampleList)/3))\n",
    "list1=sampleList[:l]\n",
    "print(list1)\n",
    "list2=sampleList[l:-l]\n",
    "print(list2)\n",
    "list3=sampleList[-l:]\n",
    "print(list3)\n",
    "\n",
    "\n",
    "print(list1[::-1])\n",
    "print(list2[::-1])\n",
    "print(list3[::-1])\n"
   ]
  },
  {
   "cell_type": "code",
   "execution_count": 43,
   "metadata": {},
   "outputs": [
    {
     "name": "stdout",
     "output_type": "stream",
     "text": [
      "11 has occurred 2 times\n",
      "45 has occurred 3 times\n",
      "8 has occurred 1 times\n",
      "11 has occurred 2 times\n",
      "23 has occurred 2 times\n",
      "45 has occurred 3 times\n",
      "23 has occurred 2 times\n",
      "45 has occurred 3 times\n",
      "89 has occurred 1 times\n"
     ]
    }
   ],
   "source": [
    "#Exercise 4: Iterate a given list and count the occurrence of each element and \n",
    "#create a dictionary to show the count of each element\n",
    "original=[11, 45, 8, 11, 23, 45, 23, 45, 89]\n",
    "\n",
    "for i in original:\n",
    "        print('{} has occurred {} times'.format(i,original.count(i)))\n"
   ]
  },
  {
   "cell_type": "code",
   "execution_count": 26,
   "metadata": {},
   "outputs": [
    {
     "name": "stdout",
     "output_type": "stream",
     "text": [
      "[[2, 4], [3, 9], [4, 16], [5, 25], [6, 36], [7, 49], [8, 64]]\n"
     ]
    }
   ],
   "source": [
    "#Exercise 5: Given a two list of equal size create a Python set such that it shows the element from both lists in the pair\n",
    "list1 = [2, 3, 4, 5, 6, 7, 8]\n",
    "list2 = [4, 9, 16, 25, 36, 49, 64]\n",
    "lst=[]\n",
    "\n",
    "for i,j in zip(list1,list2):\n",
    "    b=[]\n",
    "    b.append(i)\n",
    "    b.append(j)\n",
    "    lst.append(b)\n",
    "    \n",
    "print(lst)    "
   ]
  },
  {
   "cell_type": "code",
   "execution_count": 25,
   "metadata": {},
   "outputs": [
    {
     "name": "stdout",
     "output_type": "stream",
     "text": [
      "{64, 2, 3, 4, 5, 6, 36, 7, 9, 8, 16, 49, 25}\n",
      "{(7, 49), (2, 4), (4, 16), (8, 64), (6, 36), (3, 9), (5, 25)}\n"
     ]
    }
   ],
   "source": [
    "list1 = [2, 3, 4, 5, 6, 7, 8]\n",
    "list2 = [4, 9, 16, 25, 36, 49, 64]\n",
    "s=set()\n",
    "for i,j in zip(list1,list2):\n",
    "    b=[]\n",
    "    b.append(i)\n",
    "    b.append(j)\n",
    "    s.update(b)\n",
    "    \n",
    "c=zip(list1,list2)\n",
    "d=set(c)    \n",
    "print(s) \n",
    "print(d)"
   ]
  },
  {
   "cell_type": "code",
   "execution_count": 28,
   "metadata": {},
   "outputs": [
    {
     "name": "stdout",
     "output_type": "stream",
     "text": [
      "{65, 67, 73, 42, 43, 78, 48, 83, 23, 57, 29}\n",
      "{57, 83, 29}\n",
      "{57, 83, 29}\n",
      "{65, 42, 78, 23}\n",
      "{67, 73, 43, 48}\n"
     ]
    }
   ],
   "source": [
    "##Exercise 6: Given the following two sets find the intersection and remove those elements from the first set\n",
    "fset=  {65, 42, 78, 83, 23, 57, 29}\n",
    "sset=  {67, 73, 43, 48, 83, 57, 29}\n",
    "\n",
    "t=fset|sset\n",
    "print(t)\n",
    "\n",
    "int=fset.intersection(sset)\n",
    "print(int)\n",
    "int=sset.intersection(fset)\n",
    "print(int)\n",
    "\n",
    "for i in int:\n",
    "    fset.remove(i)\n",
    "    sset.remove(i)\n",
    "print(fset)\n",
    "print(sset)"
   ]
  },
  {
   "cell_type": "code",
   "execution_count": 39,
   "metadata": {},
   "outputs": [
    {
     "name": "stdout",
     "output_type": "stream",
     "text": [
      "{0, 34, 43, 27}\n",
      "st is subset of ft - {0, 34, 43, 27}\n"
     ]
    }
   ],
   "source": [
    "##Exercise 7: Given two sets, Checks if One Set is a subset or superset of another Set.\n",
    "##if the subset is found delete all elements from that set\n",
    "st = {27, 43, 34, 0}\n",
    "ft = {34, 93, 22, 0, 27, 43, 53, 48}\n",
    "s={\"#\"}\n",
    "\n",
    "if len(ft)<len(st):\n",
    "    for i in ft:\n",
    "        if i in st:\n",
    "            s.add(i)\n",
    "\n",
    "    s.remove(\"#\")\n",
    "    print(s)       \n",
    "    if s==ft:\n",
    "        print(\"ft is subset of st or st is superset of ft-\",s)\n",
    "    else:\n",
    "        print(\"ft is not subset of st nor st is superset of ft\")\n",
    "    \n",
    "else:\n",
    "    for i in st:\n",
    "        if i in ft:\n",
    "            s.add(i)\n",
    "\n",
    "    s.remove(\"#\")\n",
    "    print(s)       \n",
    "    if s==st:\n",
    "        print(\"st is subset of ft -\",s)\n",
    "    else:\n",
    "        print(\"st is not subset of ft\")"
   ]
  },
  {
   "cell_type": "code",
   "execution_count": 44,
   "metadata": {},
   "outputs": [
    {
     "name": "stdout",
     "output_type": "stream",
     "text": [
      "First Set  {0, 34, 43, 48, 53, 22, 27, 93}\n",
      "Second Set  {0, 43, 34, 27}\n",
      "\n",
      "First set is subset of second set - False\n",
      "\n",
      "Second set is subset of First set -  True\n",
      "\n",
      "First set is Super set of second set -  True\n",
      "\n",
      "Second set is Super set of First set -  False\n",
      "\n",
      "First Set  {0, 34, 43, 48, 53, 22, 27, 93}\n",
      "\n",
      "Second Set  set()\n"
     ]
    }
   ],
   "source": [
    "sset = {27, 43, 34, 0}\n",
    "fset = {34, 93, 22, 0, 27, 43, 53, 48}\n",
    "print(\"First Set \", fset)\n",
    "print(\"Second Set \", sset)\n",
    "\n",
    "print(\"\\nFirst set is subset of second set -\", fset.issubset(sset))\n",
    "print(\"\\nSecond set is subset of First set - \", sset.issubset(fset))\n",
    "\n",
    "print(\"\\nFirst set is Super set of second set - \", fset.issuperset(sset))\n",
    "print(\"\\nSecond set is Super set of First set - \", sset.issuperset(fset))\n",
    "\n",
    "if(fset.issubset(sset)):\n",
    "  fset.clear()\n",
    "  \n",
    "if(sset.issubset(fset)):\n",
    "  sset.clear()\n",
    "\n",
    "print(\"\\nFirst Set \", fset)\n",
    "print(\"\\nSecond Set \", sset)"
   ]
  },
  {
   "cell_type": "code",
   "execution_count": 59,
   "metadata": {},
   "outputs": [
    {
     "name": "stdout",
     "output_type": "stream",
     "text": [
      "[47, 64, 69, 37, 76, 83, 95, 97]\n",
      "['Jhon', 'Emma', 'Kelly', 'Jason']\n",
      "[47, 69, 75, 97]\n",
      "[47, 64, 69, 37, 76, 83, 95, 97]\n",
      "{'Jhon': 47, 'Emma': 69, 'Kelly': 75, 'Jason': 97}\n",
      "Common elements - [47, 69, 97]\n",
      "List after deleting common element- [64, 37, 76, 83, 95]\n",
      "{'Kelly': 75}\n"
     ]
    }
   ],
   "source": [
    "##Exercise 8: Iterate a given list and Check if a given element already exists in a dictionary as a\n",
    "##key’s value if not delete it from the list\n",
    "\n",
    "rnum = [47, 64, 69, 37, 76, 83, 95, 97]\n",
    "dict ={'Jhon':47, 'Emma':69, 'Kelly':75, 'Jason':97}\n",
    "\n",
    "dickey=list(dict.keys())\n",
    "dicvalue=list(dict.values())\n",
    "\n",
    "print(rnum)\n",
    "print(dickey)\n",
    "print(dicvalue)\n",
    "print(rnum)\n",
    "print(dict)\n",
    "\n",
    "l=[]\n",
    "for i in rnum:\n",
    "    if i in dict.values():\n",
    "        l.append(i)\n",
    "        \n",
    "print(\"Common elements -\",l)\n",
    "\n",
    "for i in l:\n",
    "    rnum.remove(i)\n",
    "    \n",
    "print(\"List after deleting common element-\",rnum)\n",
    "\n",
    "for i in l:\n",
    "    ind=dicvalue.index(i)\n",
    "    p=dickey[ind]\n",
    "    dict.pop(p)\n",
    "    \n",
    "print(dict)\n"
   ]
  },
  {
   "cell_type": "code",
   "execution_count": 69,
   "metadata": {},
   "outputs": [
    {
     "name": "stdout",
     "output_type": "stream",
     "text": [
      "[47, 52, 47, 44, 52, 53, 54, 44, 54]\n",
      "[47, 52, 44, 53, 54]\n"
     ]
    }
   ],
   "source": [
    "##Exercise 9: Given a dictionary get all values from the dictionary and add them to a list but don’t add duplicates\n",
    "speed ={'jan':47, 'feb':52, 'march':47, 'April':44, 'May':52, 'June':53, 'july':54, 'Aug':44, 'Sept':54}\n",
    "\n",
    "dicval=list(speed.values())\n",
    "print(dicval)\n",
    "\n",
    "lst=[]\n",
    "for i in dicval:\n",
    "    if i not in lst:\n",
    "        lst.append(i)\n",
    "        \n",
    "print(lst)"
   ]
  },
  {
   "cell_type": "code",
   "execution_count": 87,
   "metadata": {},
   "outputs": [
    {
     "name": "stdout",
     "output_type": "stream",
     "text": [
      "Unique [87, 45, 41, 65, 94, 99]\n",
      "Tuple (87, 45, 41, 65, 94, 99)\n",
      "Max 99\n",
      "Min 41\n"
     ]
    }
   ],
   "source": [
    "##Exercise 10: Remove duplicate from a list and create a tuple and find the minimum and maximum number\n",
    "slst = [87, 45, 41, 65, 94, 41, 99, 94]\n",
    "lst=[]\n",
    "\n",
    "for i in slst:\n",
    "    if i not in lst:\n",
    "        lst.append(i)\n",
    "        \n",
    "        \n",
    "print(\"Unique\",lst)\n",
    "tup=tuple(lst)\n",
    "print(\"Tuple\",tup)\n",
    "\n",
    "print(\"Max\",max(lst))\n",
    "print(\"Min\",min(lst))\n",
    "\n"
   ]
  }
 ],
 "metadata": {
  "kernelspec": {
   "display_name": "Python 3",
   "language": "python",
   "name": "python3"
  },
  "language_info": {
   "codemirror_mode": {
    "name": "ipython",
    "version": 3
   },
   "file_extension": ".py",
   "mimetype": "text/x-python",
   "name": "python",
   "nbconvert_exporter": "python",
   "pygments_lexer": "ipython3",
   "version": "3.8.5"
  }
 },
 "nbformat": 4,
 "nbformat_minor": 4
}
