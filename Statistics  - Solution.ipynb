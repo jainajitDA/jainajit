{
 "cells": [
  {
   "cell_type": "code",
   "execution_count": 157,
   "metadata": {},
   "outputs": [],
   "source": [
    "import numpy as np\n",
    "import pandas as pd\n",
    "import matplotlib as mlt\n",
    "import matplotlib.pyplot  as plt\n",
    "import seaborn as sb\n",
    "from scipy import stats\n",
    "from scipy.stats import kurtosis\n",
    "from scipy.stats import skew\n",
    "import pylab as pl\n",
    "from itertools import tee\n",
    "from datetime import datetime\n",
    "from statsmodels.stats.weightstats import ztest\n",
    "from scipy.stats import ttest_1samp\n",
    "from scipy.stats import ttest_ind\n",
    "from scipy.stats import ttest_rel\n",
    "from statsmodels.stats import weightstats as stests\n",
    "from scipy.stats import jarque_bera\n",
    "from scipy.stats import shapiro\n",
    "from scipy.special import factorial\n",
    "import math"
   ]
  },
  {
   "cell_type": "code",
   "execution_count": 300,
   "metadata": {},
   "outputs": [
    {
     "name": "stdout",
     "output_type": "stream",
     "text": [
      "Probability that exactly 10 customers will complain about the purchased products- 3.55 %\n"
     ]
    }
   ],
   "source": [
    "#Q1\n",
    "print(\"Probability that exactly 10 customers will complain about the purchased products-\",round(((stats.binom.pmf(10,30,0.20))*100),2),\"%\")"
   ]
  },
  {
   "cell_type": "code",
   "execution_count": 301,
   "metadata": {},
   "outputs": [
    {
     "name": "stdout",
     "output_type": "stream",
     "text": [
      "{0: 0.12, 1: 0.93, 2: 3.37, 3: 7.85, 4: 13.25, 5: 17.23, 6: 17.95, 7: 15.38, 8: 11.06, 9: 6.76, 10: 3.55, 11: 1.61, 12: 0.64, 13: 0.22, 14: 0.07, 15: 0.02}\n"
     ]
    }
   ],
   "source": [
    "#Q2\n",
    "prob= {}\n",
    "lst=()\n",
    "for i in range(16):\n",
    "    prob[i] = round(((stats.binom.pmf(i,30,0.20))*100),2)\n",
    "print(prob)    "
   ]
  },
  {
   "cell_type": "code",
   "execution_count": 302,
   "metadata": {},
   "outputs": [
    {
     "data": {
      "image/png": "[encoded data removed]",
      "text/plain": [
       "<Figure size 432x288 with 1 Axes>"
      ]
     },
     "metadata": {
      "needs_background": "light"
     },
     "output_type": "display_data"
    }
   ],
   "source": [
    "max_prob= pd.Series(prob.values(),index=prob.keys())\n",
    "max_prob.nlargest(5).plot(kind='bar')\n",
    "plt.show()"
   ]
  },
  {
   "cell_type": "code",
   "execution_count": 303,
   "metadata": {},
   "outputs": [
    {
     "name": "stdout",
     "output_type": "stream",
     "text": [
      "The probability that maximum of 10 customers will complain about the fruits purchased by them 97.45 %\n"
     ]
    }
   ],
   "source": [
    "#Q3\n",
    "prob_max10= {}\n",
    "n=0\n",
    "for i in range(11):\n",
    "    prob_max10[i] = round(((stats.binom.pmf(i,30,0.20))*100),2)\n",
    "    \n",
    "for i in prob_max10.values():\n",
    "    n=i+n\n",
    "    \n",
    "print(\"The probability that maximum of 10 customers will complain about the fruits purchased by them\",n,\"%\")"
   ]
  },
  {
   "cell_type": "code",
   "execution_count": 304,
   "metadata": {},
   "outputs": [
    {
     "name": "stdout",
     "output_type": "stream",
     "text": [
      "The probability that more than 10 customers will complain about the fruits purchased by them 2.56 %\n"
     ]
    }
   ],
   "source": [
    "#Q4\n",
    "prob_more10= {}\n",
    "n=0\n",
    "for i in range(11,31):\n",
    "    prob_more10[i] = round(((stats.binom.pmf(i,30,0.20))*100),2)\n",
    "    \n",
    "for i in prob_more10.values():\n",
    "    n=i+n\n",
    "    \n",
    "print(\"The probability that more than 10 customers will complain about the fruits purchased by them\",n,\"%\")"
   ]
  },
  {
   "cell_type": "code",
   "execution_count": 305,
   "metadata": {},
   "outputs": [
    {
     "name": "stdout",
     "output_type": "stream",
     "text": [
      "The average number of customers who are likely to complain about the fruits- 6.0 %\n",
      "The variance of the number of complaints.- 4.8 %\n"
     ]
    }
   ],
   "source": [
    "#Q5\n",
    "prob_mean= {}\n",
    "n=0\n",
    "v=0\n",
    "for i in range(31):\n",
    "    prob_mean[i] = stats.binom.pmf(i,30,0.20)\n",
    "\n",
    "for i,j in zip(prob_mean.keys(),prob_mean.values()):\n",
    "    n=(i*j)+n\n",
    "\n",
    "print(\"The average number of customers who are likely to complain about the fruits-\",round(n,2),'%')\n",
    "\n",
    "for i,j in zip(prob_mean.keys(),prob_mean.values()):\n",
    "    v=(((i-n)**2)*j)+v\n",
    "    \n",
    "print(\"The variance of the number of complaints.-\",round(v,2),'%')\n"
   ]
  },
  {
   "cell_type": "markdown",
   "metadata": {},
   "source": [
    "**The number of customer returns in a retail chain per day follows a poisson distribution at a rate of 25 returns per day.**\n"
   ]
  },
  {
   "cell_type": "code",
   "execution_count": 306,
   "metadata": {},
   "outputs": [
    {
     "name": "stdout",
     "output_type": "stream",
     "text": [
      "The probability that the number of returns exceeds 30 in a day- 86.33 %\n"
     ]
    }
   ],
   "source": [
    "#Q6\n",
    "prob_poisson=round(((stats.poisson.cdf(30,25))*100),2)\n",
    "print(\"The probability that the number of returns exceeds 30 in a day-\",prob_poisson,'%')\n"
   ]
  },
  {
   "cell_type": "code",
   "execution_count": 307,
   "metadata": {},
   "outputs": [
    {
     "name": "stdout",
     "output_type": "stream",
     "text": [
      "ZScore- 2.2135943621178655\n"
     ]
    }
   ],
   "source": [
    "#Q7\n",
    "mean=95\n",
    "var=10\n",
    "X=102\n",
    "std=(var)**(1/2)\n",
    "\n",
    "z=(X-mean)/std\n",
    "print(\"ZScore-\",z)"
   ]
  },
  {
   "cell_type": "code",
   "execution_count": 308,
   "metadata": {},
   "outputs": [
    {
     "name": "stdout",
     "output_type": "stream",
     "text": [
      "The probability that on a day exactly 1 accident will happen 2.49 %\n"
     ]
    }
   ],
   "source": [
    "#Q8\n",
    "mean = 3\n",
    "x=1\n",
    "prob= (mean**x)*(math.exp(-mean))/(factorial(3,exact=False))\n",
    "print('The probability that on a day exactly 1 accident will happen',round(prob*100,2),'%')"
   ]
  },
  {
   "cell_type": "code",
   "execution_count": 309,
   "metadata": {},
   "outputs": [
    {
     "name": "stdout",
     "output_type": "stream",
     "text": [
      "The shapiro test statistic is 0.9307892322540283  and its p-value is 0.0009826880414038897\n",
      "The jarque_bera test statistic is 8.622083973391497  and its p-value is 0.013419559304405193\n"
     ]
    },
    {
     "name": "stderr",
     "output_type": "stream",
     "text": [
      "C:\\Users\\Ajit Jain\\anaconda3\\lib\\site-packages\\seaborn\\distributions.py:2551: FutureWarning: `distplot` is a deprecated function and will be removed in a future version. Please adapt your code to use either `displot` (a figure-level function with similar flexibility) or `kdeplot` (an axes-level function for kernel density plots).\n",
      "  warnings.warn(msg, FutureWarning)\n"
     ]
    },
    {
     "data": {
      "text/plain": [
       "<AxesSubplot:ylabel='Density'>"
      ]
     },
     "execution_count": 309,
     "metadata": {},
     "output_type": "execute_result"
    },
    {
     "data": {
      "image/png": "[encoded data removed]",
      "text/plain": [
       "<Figure size 432x288 with 1 Axes>"
      ]
     },
     "metadata": {
      "needs_background": "light"
     },
     "output_type": "display_data"
    }
   ],
   "source": [
    "#Q9\n",
    "dist=[75, 97, 70, 25, 80, 40, 82, 72, 82, 46, 72, 64, 24, 66, 78, 34, 37,64, 75, 94, 76, 96, 88, 37, 29, 51, 67, 45, 69, 59, 81, 66, 30, 52,66, 85, 80, 74, 69, 83, 66, 84, 76, 73, 77, 85, 72, 71, 71, 75, 59,84, 65, 64, 86, 58, 85, 61, 79, 61, 68, 61, 60, 78, 76, 80, 57, 75]\n",
    "\n",
    "stat, p = shapiro(dist)\n",
    "\n",
    "print(\"The shapiro test statistic is\", stat,\" and its p-value is\",p)\n",
    "\n",
    "stats, ps = jarque_bera(dist)\n",
    "\n",
    "print(\"The jarque_bera test statistic is\", stats,\" and its p-value is\",ps)\n",
    "\n",
    "sb.distplot(dist,hist=False)"
   ]
  },
  {
   "cell_type": "markdown",
   "metadata": {},
   "source": [
    "Since the p-value is less than 0.05 (level of significance), hence we reject H0.\n",
    "\n",
    "We may conclude that the data is not normally distributed."
   ]
  },
  {
   "cell_type": "code",
   "execution_count": 310,
   "metadata": {},
   "outputs": [
    {
     "name": "stdout",
     "output_type": "stream",
     "text": [
      "Probabilty outcomes have at least two heads- 50.0 %\n"
     ]
    }
   ],
   "source": [
    "#Q10.1\n",
    "Total_outcome=8\n",
    "outcome= {'HHH', 'HHT', 'HTH', 'THH', 'HTT', 'THT', 'TTH', 'TTT'}\n",
    "expected_no_outcome=4\n",
    "prob=expected_no_outcome/Total_outcome\n",
    "print(\"Probabilty outcomes have at least two heads-\",round(prob*100,2),\"%\")"
   ]
  },
  {
   "cell_type": "code",
   "execution_count": 311,
   "metadata": {},
   "outputs": [
    {
     "name": "stdout",
     "output_type": "stream",
     "text": [
      "Max production- 37.46 and Min production- 30.54\n"
     ]
    }
   ],
   "source": [
    "#Q11\n",
    "mean=34\n",
    "var=3\n",
    "std=var**(1/2)\n",
    "max= mean+2*std\n",
    "min= mean - 2*std\n",
    "print(\"Max production-\",round(max,2), \"and\" ,\"Min production-\",round(min,2))"
   ]
  },
  {
   "cell_type": "code",
   "execution_count": 312,
   "metadata": {},
   "outputs": [
    {
     "name": "stdout",
     "output_type": "stream",
     "text": [
      "       Call duration (in minutes)\n",
      "count                   19.000000\n",
      "mean                    32.684211\n",
      "std                     24.984557\n",
      "min                      3.000000\n",
      "25%                     16.500000\n",
      "50%                     24.000000\n",
      "75%                     45.000000\n",
      "max                     98.000000\n",
      "mode    Call duration (in minutes)\n",
      "0                          17\n",
      "1                          45 & median Call duration (in minutes)    24.0\n",
      "dtype: float64\n"
     ]
    }
   ],
   "source": [
    "#Q12\n",
    "call=pd.DataFrame({'Call duration (in minutes)':[23, 3, 13, 4, 45, 35, 48, 98, 65, 45, 75, 24, 15, 25, 34, 17, 16, 17, 19]})\n",
    "print(call.describe())\n",
    "mode=call.mode()\n",
    "median=call.median()\n",
    "print(\"mode\",mode,\"&\",\"median\",median)"
   ]
  },
  {
   "cell_type": "code",
   "execution_count": 313,
   "metadata": {},
   "outputs": [
    {
     "name": "stdout",
     "output_type": "stream",
     "text": [
      "Observation mean- 27.05 \n",
      "Observation std deviation- 6.17\n"
     ]
    }
   ],
   "source": [
    "#Q13\n",
    "data=[16.0, 16.0, 30.0, 37.0, 25.0, 22.0, 19.0, 35.0, 27.0, 32.0, 34.0, 28.0, 24.0, 35.0, 24.0, 21.0, 32.0, 29.0, 24.0, 35.0, 28.0, 29.0, 18.0, 31.0, 28.0, 33.0, 32.0, 24.0, 25.0, 22.0, 21.0, 27.0, 41.0, 23.0, 23.0, 16.0, 24.0, 38.0, 26.0, 28.0]\n",
    "x=np.mean(data)\n",
    "s=round(np.std(data),2)\n",
    "print(\"Observation mean-\",x,\"\\nObservation std deviation-\",s)"
   ]
  },
  {
   "cell_type": "code",
   "execution_count": 314,
   "metadata": {},
   "outputs": [
    {
     "name": "stdout",
     "output_type": "stream",
     "text": [
      "The test statistic is 0.9803876876831055  and its p-value is 0.7039452195167542\n"
     ]
    },
    {
     "name": "stderr",
     "output_type": "stream",
     "text": [
      "C:\\Users\\Ajit Jain\\anaconda3\\lib\\site-packages\\seaborn\\distributions.py:2551: FutureWarning: `distplot` is a deprecated function and will be removed in a future version. Please adapt your code to use either `displot` (a figure-level function with similar flexibility) or `kdeplot` (an axes-level function for kernel density plots).\n",
      "  warnings.warn(msg, FutureWarning)\n"
     ]
    },
    {
     "data": {
      "text/plain": [
       "<AxesSubplot:ylabel='Density'>"
      ]
     },
     "execution_count": 314,
     "metadata": {},
     "output_type": "execute_result"
    },
    {
     "data": {
      "image/png": "[encoded data removed]",
      "text/plain": [
       "<Figure size 432x288 with 1 Axes>"
      ]
     },
     "metadata": {
      "needs_background": "light"
     },
     "output_type": "display_data"
    }
   ],
   "source": [
    "#Q14\n",
    "mean=30\n",
    "std=12.5\n",
    "n=40\n",
    "a=0.05\n",
    "\n",
    "stat, p = shapiro(data)\n",
    "\n",
    "print(\"The test statistic is\", stat,\" and its p-value is\",p)\n",
    "\n",
    "sb.distplot(data,hist=False)"
   ]
  },
  {
   "cell_type": "markdown",
   "metadata": {},
   "source": [
    "1.The size of observation is greater than 30\n",
    "2.The p-value is greater than 0.05 (level of significance) - The sample is normally distributed\n",
    "3.Std deviation of population is known \n",
    "\n",
    "**Z -Stats can be used**\n",
    "\n",
    "H0:  The product will be delivered within avg 30 days of placing the order,\n",
    "i.e  𝜇 A = 30\n",
    "\n",
    "Ha:  The product will be delivered within avg 30 days of placing the order,\n",
    "i.e  𝜇 A ≠ 30"
   ]
  },
  {
   "cell_type": "code",
   "execution_count": 315,
   "metadata": {},
   "outputs": [],
   "source": [
    "test=ztest(data,value=30)\n",
    "p_value=test[1]"
   ]
  },
  {
   "cell_type": "code",
   "execution_count": 316,
   "metadata": {},
   "outputs": [
    {
     "name": "stdout",
     "output_type": "stream",
     "text": [
      "The p-value  0.0028  is less than  0.05  (level of significance) -Hence we reject H0.\n",
      "The company's claim is false.\n"
     ]
    }
   ],
   "source": [
    "if p_value<=a:\n",
    "    print(\"The p-value \",round(p_value,4),\" is less than \", a,\" (level of significance) -Hence we reject H0.\")\n",
    "    print(\"The company's claim is false.\")\n",
    "else:\n",
    "    print(\"The p-value \",round(p_value,4) ,\" is greater than \",a,\" (level of significance) -Hence we failed to reject H0.\")\n",
    "    print(\"The company's claim is failed to be false.\")"
   ]
  },
  {
   "cell_type": "code",
   "execution_count": 317,
   "metadata": {},
   "outputs": [
    {
     "name": "stdout",
     "output_type": "stream",
     "text": [
      "The test statistic is 0.9665409922599792  and its p-value is 0.2781541049480438\n"
     ]
    },
    {
     "name": "stderr",
     "output_type": "stream",
     "text": [
      "C:\\Users\\Ajit Jain\\anaconda3\\lib\\site-packages\\seaborn\\distributions.py:2551: FutureWarning: `distplot` is a deprecated function and will be removed in a future version. Please adapt your code to use either `displot` (a figure-level function with similar flexibility) or `kdeplot` (an axes-level function for kernel density plots).\n",
      "  warnings.warn(msg, FutureWarning)\n"
     ]
    },
    {
     "data": {
      "text/plain": [
       "<AxesSubplot:ylabel='Density'>"
      ]
     },
     "execution_count": 317,
     "metadata": {},
     "output_type": "execute_result"
    },
    {
     "data": {
      "image/png": "[encoded data removed]",
      "text/plain": [
       "<Figure size 432x288 with 1 Axes>"
      ]
     },
     "metadata": {
      "needs_background": "light"
     },
     "output_type": "display_data"
    }
   ],
   "source": [
    "#Q15\n",
    "data = [81, 89, 53, 56, 77, 58, 78, 45, 62, 55, 72, 8, 10, 16, 8, 33, 36, 32, 66, 62, 48, 84, 67, 91, 62, 46, 89, 99, 92, 77, 29, 66, 44, 26, 66, 67,25, 35, 57, 63]\n",
    "mean=70\n",
    "n=40\n",
    "a=0.05\n",
    "\n",
    "stat, p = shapiro(data)\n",
    "\n",
    "print(\"The test statistic is\", stat,\" and its p-value is\",p)\n",
    "\n",
    "sb.distplot(data,hist=False)\n"
   ]
  },
  {
   "cell_type": "markdown",
   "metadata": {},
   "source": [
    "1.The size of observation is greater than 30\n",
    "\n",
    "2.The p-value is greater than 0.05 (level of significance) - The sample is normally distributed\n",
    "\n",
    "3.Std deviation of population is unknown \n",
    "\n",
    "**T -Stats can be used**\n",
    "\n",
    "H0: The production cost required for producing a Hollywood movie,\n",
    "i.e  𝜇 A = 70\n",
    "\n",
    "Ha:  The production cost required for producing a Hollywood movie,\n",
    "i.e  𝜇 A ≠ 70"
   ]
  },
  {
   "cell_type": "code",
   "execution_count": 318,
   "metadata": {
    "scrolled": true
   },
   "outputs": [
    {
     "name": "stdout",
     "output_type": "stream",
     "text": [
      "The p-value  0.0007  is less than  0.05  (level of significance) -Hence we reject H0.\n",
      "The company's claim is false.\n"
     ]
    }
   ],
   "source": [
    "test=ttest_1samp(data,70)\n",
    "p_value=test[1]\n",
    "\n",
    "if p_value<=a:\n",
    "    print(\"The p-value \",round(p_value,4),\" is less than \", a,\" (level of significance) -Hence we reject H0.\")\n",
    "    print(\"The company's claim is false.\")\n",
    "else:\n",
    "    print(\"The p-value \",round(p_value,4) ,\" is greater than \",a,\" (level of significance) -Hence we failed to reject H0.\")\n",
    "    print(\"The company's claim is failed to be false.\")"
   ]
  },
  {
   "cell_type": "code",
   "execution_count": 319,
   "metadata": {},
   "outputs": [
    {
     "name": "stdout",
     "output_type": "stream",
     "text": [
      "The probability that a girl is chosen given that she likes Pizza- 38.71 %\n"
     ]
    }
   ],
   "source": [
    "#Q16\n",
    "Total=155\n",
    "exp=60\n",
    "prob=exp/Total\n",
    "print(\"The probability that a girl is chosen given that she likes Pizza-\",round(prob*100,2),\"%\")"
   ]
  },
  {
   "cell_type": "code",
   "execution_count": 320,
   "metadata": {},
   "outputs": [
    {
     "name": "stdout",
     "output_type": "stream",
     "text": [
      "The probability that a boy likes both the dishes- 45.16 %\n"
     ]
    }
   ],
   "source": [
    "#Q17\n",
    "Total=155\n",
    "exp=70\n",
    "prob=exp/Total\n",
    "print(\"The probability that a boy likes both the dishes-\",round(prob*100,2),\"%\")"
   ]
  },
  {
   "cell_type": "code",
   "execution_count": 321,
   "metadata": {},
   "outputs": [
    {
     "name": "stdout",
     "output_type": "stream",
     "text": [
      "The probability that the favourite dish for both boys and girls is sizzlers- 41.94 %\n"
     ]
    }
   ],
   "source": [
    "#Q18\n",
    "Total=155\n",
    "exp=65\n",
    "prob=exp/Total\n",
    "print(\"The probability that the favourite dish for both boys and girls is sizzlers-\",round(prob*100,2),\"%\")"
   ]
  },
  {
   "cell_type": "code",
   "execution_count": 322,
   "metadata": {},
   "outputs": [
    {
     "name": "stdout",
     "output_type": "stream",
     "text": [
      "The probability that the favourite food is Pizza given that he is a boy- 19.35 %\n"
     ]
    }
   ],
   "source": [
    "#Q19\n",
    "Total=155\n",
    "exp=30\n",
    "prob=exp/Total\n",
    "print(\"The probability that the favourite food is Pizza given that he is a boy-\",round(prob*100,2),\"%\")"
   ]
  },
  {
   "cell_type": "code",
   "execution_count": 323,
   "metadata": {},
   "outputs": [
    {
     "name": "stdout",
     "output_type": "stream",
     "text": [
      "Correct average BMI- 23.96\n"
     ]
    }
   ],
   "source": [
    "#Q20\n",
    "n=36\n",
    "inc_mean=23.79\n",
    "sum=inc_mean*n\n",
    "inc_value=21.32\n",
    "correct_value=27.32\n",
    "correct_sum=sum-inc_value+correct_value\n",
    "correct_mean=correct_sum/n\n",
    "\n",
    "print(\"Correct average BMI-\",round(correct_mean,2))"
   ]
  },
  {
   "cell_type": "code",
   "execution_count": 324,
   "metadata": {},
   "outputs": [
    {
     "name": "stderr",
     "output_type": "stream",
     "text": [
      "C:\\Users\\Ajit Jain\\anaconda3\\lib\\site-packages\\seaborn\\distributions.py:2551: FutureWarning: `distplot` is a deprecated function and will be removed in a future version. Please adapt your code to use either `displot` (a figure-level function with similar flexibility) or `kdeplot` (an axes-level function for kernel density plots).\n",
      "  warnings.warn(msg, FutureWarning)\n"
     ]
    },
    {
     "name": "stdout",
     "output_type": "stream",
     "text": [
      "More weight in the left tail of the distribution. - skewness = 0.4455\n"
     ]
    },
    {
     "data": {
      "image/png": "[encoded data removed]",
      "text/plain": [
       "<Figure size 432x288 with 1 Axes>"
      ]
     },
     "metadata": {
      "needs_background": "light"
     },
     "output_type": "display_data"
    }
   ],
   "source": [
    "#Q21\n",
    "age = [22, 29, 24, 32, 37, 26, 25, 45, 28, 22, 39, 47, 23, 36, 43]\n",
    "n=len(age)\n",
    "sk=round(skew(age),4)\n",
    "\n",
    "sb.distplot(age,hist=False)\n",
    "if sk == 0 : \n",
    "    print(\"Normally distributed.- skewness =\",sk)\n",
    "elif sk > 0 : \n",
    "    print(\"More weight in the left tail of the distribution. - skewness =\",sk)\n",
    "elif sk < 0 : \n",
    "    print(\"More weight in the right tail of the distribution.- skewness =\",sk)\n",
    "    \n"
   ]
  },
  {
   "cell_type": "code",
   "execution_count": 325,
   "metadata": {},
   "outputs": [
    {
     "name": "stdout",
     "output_type": "stream",
     "text": [
      "Missing observation- 40\n"
     ]
    }
   ],
   "source": [
    "#Q22\n",
    "num_clips = [41,35,42,\"x\",46,34,32,47,44,39]\n",
    "\n",
    "n=len(num_clips)\n",
    "num_clips.remove('x')\n",
    "sum_clips=num_clips\n",
    "for i in range(0, len(sum_clips)):\n",
    "    sum_clips[i] = int(sum_clips[i])\n",
    "\n",
    "mean=40\n",
    "sum=mean*n\n",
    "\n",
    "clip=0\n",
    "for i in sum_clips:\n",
    "    clip=i+clip\n",
    "\n",
    "x=sum-clip\n",
    "print(\"Missing observation-\",x)\n",
    "num_clips.append(x)"
   ]
  },
  {
   "cell_type": "code",
   "execution_count": 326,
   "metadata": {},
   "outputs": [
    {
     "name": "stdout",
     "output_type": "stream",
     "text": [
      "The range of height for the middle 50% of the data is- 6.0 = 158.75 to 164.75\n"
     ]
    }
   ],
   "source": [
    "#Q23\n",
    "height = {'height_(cm)':[162, 158, 149, 167, 162, 154, 172, 160, 164, 159, 175, 163]}\n",
    "height=pd.DataFrame(height)\n",
    "Q1=np.quantile(height, .25)\n",
    "Q3=np.quantile(height, .75)\n",
    "Range=Q3-Q1\n",
    "print(\"The range of height for the middle 50% of the data is-\",Range,\"=\",Q1,\"to\",Q3)"
   ]
  },
  {
   "cell_type": "code",
   "execution_count": 327,
   "metadata": {},
   "outputs": [
    {
     "name": "stdout",
     "output_type": "stream",
     "text": [
      "The median rating of the movies :  3.78\n"
     ]
    }
   ],
   "source": [
    "#24\n",
    "mean=3.52\n",
    "std=1.7\n",
    "sk=-0.46\n",
    "median=mean -((sk*std)/3)\n",
    "\n",
    "print(\"The median rating of the movies : \",round(median,2))"
   ]
  },
  {
   "cell_type": "code",
   "execution_count": 354,
   "metadata": {},
   "outputs": [
    {
     "name": "stdout",
     "output_type": "stream",
     "text": [
      "Coefficient of Variation of Sheldon 0.186\n",
      "Coefficient of Variation of Ross 0.202\n",
      "Coefficient of Variation of Joey 0.167\n",
      "consistency in the number of new subscribers - Joey  0.167\n"
     ]
    }
   ],
   "source": [
    "#Q25\n",
    "subscribers={'Month':['Jan'\n",
    ",'Feb'\n",
    ",'Mar'\n",
    ",'Apr'\n",
    ",'May'\n",
    ",'Jun'\n",
    ",'July'\n",
    ",'Aug'\n",
    ",'Sept'\n",
    ",'Oct'\n",
    ",'Nov'\n",
    ",'Dec'\n",
    "],\n",
    "'Sheldon':[3\n",
    ",5.1\n",
    ",2.9\n",
    ",3.7\n",
    ",4.2\n",
    ",4.2\n",
    ",4.3\n",
    ",5.2\n",
    ",3.7\n",
    ",4.4\n",
    ",5.2\n",
    ",3.4]\n",
    ",'Ross':[4\n",
    ",4.6\n",
    ",3.1\n",
    ",4.2\n",
    ",5.4\n",
    ",3.4\n",
    ",5\n",
    ",6.2\n",
    ",4.2\n",
    ",3.5\n",
    ",4.1\n",
    ",5.5\n",
    "]            \n",
    ",'Joey':[4.3\n",
    ",4\n",
    ",4.5\n",
    ",5.1\n",
    ",6\n",
    ",5\n",
    ",4.8\n",
    ",5.4\n",
    ",5.1\n",
    ",6.4\n",
    ",4.2\n",
    ",3.4\n",
    "]}\n",
    "\n",
    "\n",
    "subscribers=pd.DataFrame(subscribers)\n",
    "std_sheldon=np.std(subscribers['Sheldon'])\n",
    "mean_sheldon=np.mean(subscribers['Sheldon'])\n",
    "cv_sheldon=std_sheldon/mean_sheldon\n",
    "print(\"Coefficient of Variation of Sheldon\",round(cv_sheldon,3))\n",
    "\n",
    "std_Ross=np.std(subscribers['Ross'])\n",
    "mean_Ross=np.mean(subscribers['Ross'])\n",
    "cv_Ross=std_Ross/mean_Ross\n",
    "print(\"Coefficient of Variation of Ross\",round(cv_Ross,3))\n",
    "\n",
    "\n",
    "std_Joey=np.std(subscribers['Joey'])\n",
    "mean_Joey=np.mean(subscribers['Joey'])\n",
    "cv_Joey=std_Joey/mean_Joey\n",
    "print(\"Coefficient of Variation of Joey\",round(cv_Joey,3))\n",
    "\n",
    "\n",
    "print(\"consistency in the number of new subscribers - Joey \",round(cv_Joey,3))\n",
    "\n"
   ]
  },
  {
   "cell_type": "code",
   "execution_count": 328,
   "metadata": {},
   "outputs": [],
   "source": [
    "#Q26\n",
    "data={\"Diameter_of_bolts\": [0.89, 1.39, 1.29, 1.36, 1.39, 1.44, 1.24, 0.82, 1.25, 0.85, 0.75, 1.34, 0.84, 1.27, 1.04, 1.36, 1.18, 1.49, 1.54, 0.83, 1.11, 1.14, 1.3 , 0.99, 1.21, 1.51, 1.02, 1.19, 1.05, 1.23, 0.76, 0.81, 0.92, 0.82, 1.64, 1.02, 1.61, 1.2, 1.17, 1.61, 1.23, 1.11, 1.17, 1.63, 1.33, 1.07, 0.94, 1.53, 1.38, 0.8 , 0.95, 1.4 , 1.09, 1.32, 1.43, 1.12, 1.2 , 0.94, 0.98, 1.54, 1.21, 1.4 , 1.13, 0.75, 1.02, 0.99, 1.49, 1.34, 1.57, 1.51, 1.42, 1.27, 0.78, 1.52, 1.5 , 1.13, 1.17, 1.17, 1.21, 1.14, 1.23, 1.46, 1.62, 1.11, 1.28, 1.25, 1.48, 0.76, 1.45, 1.38, 1.15, 0.95, 1.13, 1.24, 1.41, 1.38, 0.86, 1.39, 1.57, 1.32, 1.43, 1.55, 0.89, 1.06, 1.27, 1.46, 0.94, 1.53, 0.87, 1.47, 1.04, 1.12, 1.09, 1.45, 1.37, 1.18, 1.22, 1.29, 1.28, 1.59, 1.06, 1.49, 1.01, 1.31, 1.21, 1.32, 1.59, 0.85, 1.06, 0.82, 1.31, 1.32, 1.05, 1.6 , 0.87, 0.85, 1.13, 1.55, 1.15, 1.11, 1.58, 1.47, 1.52, 1.31, 1.16, 1.12, 0.85, 1.61, 1.42, 1.61]}\n",
    "mean=1.25\n",
    "bolt=pd.DataFrame(data)\n",
    "n=len(bolt)\n",
    "a=.05"
   ]
  },
  {
   "cell_type": "markdown",
   "metadata": {},
   "source": [
    "1.The size of observation is greater than 30 \n",
    "2.The p-value is greater than 0.05 (level of significance) - The sample is normally distributed \n",
    "3.Std deviation of population is unknown\n",
    "\n",
    "T -Stats can be used\n",
    "\n",
    "H0: The average diameter is not 1.25 cm, i.e  𝜇 A = 1.25\n",
    "\n",
    "Ha: The average diameter is  1.25 cm, i.e 𝜇 A ≠ 1.25"
   ]
  },
  {
   "cell_type": "code",
   "execution_count": 329,
   "metadata": {},
   "outputs": [
    {
     "name": "stderr",
     "output_type": "stream",
     "text": [
      "C:\\Users\\Ajit Jain\\anaconda3\\lib\\site-packages\\seaborn\\distributions.py:2551: FutureWarning: `distplot` is a deprecated function and will be removed in a future version. Please adapt your code to use either `displot` (a figure-level function with similar flexibility) or `kdeplot` (an axes-level function for kernel density plots).\n",
      "  warnings.warn(msg, FutureWarning)\n"
     ]
    },
    {
     "name": "stdout",
     "output_type": "stream",
     "text": [
      "The p-value  [0.18947737]  is greater than  0.05  (level of significance) -Hence we failed to reject H0.\n",
      "The company's claim is failed to be false.\n"
     ]
    },
    {
     "data": {
      "image/png": "[encoded data removed]",
      "text/plain": [
       "<Figure size 432x288 with 1 Axes>"
      ]
     },
     "metadata": {
      "needs_background": "light"
     },
     "output_type": "display_data"
    }
   ],
   "source": [
    "test=ttest_1samp(bolt,1.25)\n",
    "p_value=test[1]\n",
    "sb.distplot(bolt,hist=False)\n",
    "if p_value<=a:\n",
    "    print(\"The p-value \",p_value,\" is less than \", a,\" (level of significance) -Hence we reject H0.\")\n",
    "    print(\"The company's claim is false.\")\n",
    "else:\n",
    "    print(\"The p-value \",p_value,\" is greater than \",a,\" (level of significance) -Hence we failed to reject H0.\")\n",
    "    print(\"The company's claim is failed to be false.\")"
   ]
  },
  {
   "cell_type": "code",
   "execution_count": 330,
   "metadata": {},
   "outputs": [],
   "source": [
    "#Q27\n",
    "bp={'Before':[90,85,78,88,90,100,92,81],'After':[85,87,82,83,82,99,94,78]}\n",
    "bp=pd.DataFrame(bp)\n",
    "a=0.05"
   ]
  },
  {
   "cell_type": "markdown",
   "metadata": {},
   "source": [
    "1.The size of observation is less than 30 \n",
    "\n",
    "2.The p-value is greater than 0.05 (level of significance) - The sample is normally distributed \n",
    "\n",
    "3.Std deviation of population is unknown\n",
    "\n",
    "T -Stats can be used\n",
    "\n",
    "H0: The BP of  patients before medication and after medication are same, i.e 𝜇 A = 𝜇 B\n",
    "\n",
    "Ha: The BP of  patients before medication and after medication are not same, i.e 𝜇 A ≠ 𝜇 B"
   ]
  },
  {
   "cell_type": "code",
   "execution_count": 331,
   "metadata": {},
   "outputs": [
    {
     "name": "stderr",
     "output_type": "stream",
     "text": [
      "C:\\Users\\Ajit Jain\\anaconda3\\lib\\site-packages\\seaborn\\distributions.py:2551: FutureWarning: `distplot` is a deprecated function and will be removed in a future version. Please adapt your code to use either `displot` (a figure-level function with similar flexibility) or `kdeplot` (an axes-level function for kernel density plots).\n",
      "  warnings.warn(msg, FutureWarning)\n"
     ]
    },
    {
     "name": "stdout",
     "output_type": "stream",
     "text": [
      "The p-value  0.27713277282901  is greater than  0.05  (level of significance) -Hence we failed to reject H0.\n",
      "The data suggest that the drug is not effective in reducing the systolic blood pressure\n"
     ]
    },
    {
     "data": {
      "image/png": "[encoded data removed]",
      "text/plain": [
       "<Figure size 432x288 with 1 Axes>"
      ]
     },
     "metadata": {
      "needs_background": "light"
     },
     "output_type": "display_data"
    }
   ],
   "source": [
    "test=ttest_rel(bp['Before'],bp['After'])\n",
    "p_value=test[1]\n",
    "sb.distplot(bolt,hist=False)\n",
    "if p_value<=a:\n",
    "    print(\"The p-value \",p_value,\" is less than \", a,\" (level of significance) -Hence we reject H0.\")\n",
    "    print(\"The data suggest that the drug is effective in reducing the systolic blood pressure\")\n",
    "else:\n",
    "    print(\"The p-value \",p_value,\" is greater than \",a,\" (level of significance) -Hence we failed to reject H0.\")\n",
    "    print(\"The data suggest that the drug is not effective in reducing the systolic blood pressure\")"
   ]
  },
  {
   "cell_type": "code",
   "execution_count": 336,
   "metadata": {},
   "outputs": [],
   "source": [
    "#Q28\n",
    "yeild={'Yield due to Ordinary Seed':[450, 340, 562, 563, 234, 546, 876, 649, 736, 745],'Yield due to Modified Seed':[345, 576, 675, 674, 865, 457, 776, 567, 568, 753]}\n",
    "yeild=pd.DataFrame(yeild)\n",
    "a=0.05"
   ]
  },
  {
   "cell_type": "markdown",
   "metadata": {},
   "source": [
    "1.The size of observation is less than 30\n",
    "\n",
    "2.The p-value is greater than 0.05 (level of significance) - The sample is normally distributed\n",
    "\n",
    "3.Std deviation of population is unknown\n",
    "\n",
    "T -Stats can be used\n",
    "\n",
    "H0: The there is no difference in the yeild due to the seed type, i.e 𝜇 A = 𝜇 B\n",
    "\n",
    "Ha: The there is  difference in the yeild due to the seed type, i.e 𝜇 A ≠ 𝜇 B"
   ]
  },
  {
   "cell_type": "code",
   "execution_count": 339,
   "metadata": {},
   "outputs": [
    {
     "name": "stderr",
     "output_type": "stream",
     "text": [
      "C:\\Users\\Ajit Jain\\anaconda3\\lib\\site-packages\\seaborn\\distributions.py:2551: FutureWarning: `distplot` is a deprecated function and will be removed in a future version. Please adapt your code to use either `displot` (a figure-level function with similar flexibility) or `kdeplot` (an axes-level function for kernel density plots).\n",
      "  warnings.warn(msg, FutureWarning)\n"
     ]
    },
    {
     "name": "stdout",
     "output_type": "stream",
     "text": [
      "The p-value  0.4892561782804804  is greater than  0.05  (level of significance) -Hence we failed to reject H0.\n",
      "There is no difference in the yeild due to the seed type\n"
     ]
    },
    {
     "data": {
      "image/png": "[encoded data removed]",
      "text/plain": [
       "<Figure size 432x288 with 1 Axes>"
      ]
     },
     "metadata": {
      "needs_background": "light"
     },
     "output_type": "display_data"
    }
   ],
   "source": [
    "test=ttest_ind(yeild['Yield due to Ordinary Seed'],yeild['Yield due to Modified Seed'])\n",
    "p_value=test[1]\n",
    "sb.distplot(yeild,hist=False)\n",
    "if p_value<=a:\n",
    "    print(\"The p-value \",p_value,\" is less than \", a,\" (level of significance) -Hence we reject H0.\")\n",
    "    print(\"There is difference in the yeild due to the seed type\")\n",
    "else:\n",
    "    print(\"The p-value \",p_value,\" is greater than \",a,\" (level of significance) -Hence we failed to reject H0.\")\n",
    "    print(\"There is no difference in the yeild due to the seed type\")"
   ]
  },
  {
   "cell_type": "code",
   "execution_count": 332,
   "metadata": {},
   "outputs": [
    {
     "name": "stderr",
     "output_type": "stream",
     "text": [
      "C:\\Users\\Ajit Jain\\anaconda3\\lib\\site-packages\\scipy\\stats\\morestats.py:1681: UserWarning: p-value may not be accurate for N > 5000.\n",
      "  warnings.warn(\"p-value may not be accurate for N > 5000.\")\n",
      "C:\\Users\\Ajit Jain\\anaconda3\\lib\\site-packages\\seaborn\\distributions.py:2551: FutureWarning: `distplot` is a deprecated function and will be removed in a future version. Please adapt your code to use either `displot` (a figure-level function with similar flexibility) or `kdeplot` (an axes-level function for kernel density plots).\n",
      "  warnings.warn(msg, FutureWarning)\n"
     ]
    },
    {
     "name": "stdout",
     "output_type": "stream",
     "text": [
      "The test statistic is 0.9539097547531128  and its p-value is 2.4845021772479007e-42\n",
      "The p-value  2.4845021772479007e-42  is less than  0.05  (level of significance) -Hence we reject H0.\n",
      "The data is not normally distributed\n"
     ]
    },
    {
     "data": {
      "image/png": "[encoded data removed]",
      "text/plain": [
       "<Figure size 432x288 with 1 Axes>"
      ]
     },
     "metadata": {
      "needs_background": "light"
     },
     "output_type": "display_data"
    }
   ],
   "source": [
    "#Q29\n",
    "data=np.random.random(7000)\n",
    "a=0.05\n",
    "stat,p = shapiro(data)\n",
    "print(\"The test statistic is\", stat,\" and its p-value is\",p)\n",
    "\n",
    "sb.distplot(data,hist=False)\n",
    "if p<=a:\n",
    "    print(\"The p-value \",p,\" is less than \", a,\" (level of significance) -Hence we reject H0.\")\n",
    "    print(\"The data is not normally distributed\")\n",
    "else:\n",
    "    print(\"The p-value \",p,\" is greater than \",a,\" (level of significance) -Hence we failed to reject H0.\")\n",
    "    print(\"The data is normally distributed\")"
   ]
  },
  {
   "cell_type": "markdown",
   "metadata": {},
   "source": [
    "Since the p-value (0.00) is less than 0.05 (level of significance), hence we reject H0.\n",
    "We may conclude that the data is not normally distributed"
   ]
  },
  {
   "cell_type": "code",
   "execution_count": 333,
   "metadata": {},
   "outputs": [
    {
     "ename": "AttributeError",
     "evalue": "'numpy.float64' object has no attribute 'binom'",
     "output_type": "error",
     "traceback": [
      "\u001b[1;31m---------------------------------------------------------------------------\u001b[0m",
      "\u001b[1;31mAttributeError\u001b[0m                            Traceback (most recent call last)",
      "\u001b[1;32m<ipython-input-333-67bca5c4addc>\u001b[0m in \u001b[0;36m<module>\u001b[1;34m\u001b[0m\n\u001b[0;32m      1\u001b[0m \u001b[1;31m#Q30\u001b[0m\u001b[1;33m\u001b[0m\u001b[1;33m\u001b[0m\u001b[1;33m\u001b[0m\u001b[0m\n\u001b[1;32m----> 2\u001b[1;33m \u001b[0mprint\u001b[0m\u001b[1;33m(\u001b[0m\u001b[1;34m\"The probability that steve will pass-\"\u001b[0m\u001b[1;33m,\u001b[0m\u001b[0mround\u001b[0m\u001b[1;33m(\u001b[0m\u001b[1;33m(\u001b[0m\u001b[1;33m(\u001b[0m\u001b[0mstats\u001b[0m\u001b[1;33m.\u001b[0m\u001b[0mbinom\u001b[0m\u001b[1;33m.\u001b[0m\u001b[0mpmf\u001b[0m\u001b[1;33m(\u001b[0m\u001b[1;36m2\u001b[0m\u001b[1;33m,\u001b[0m\u001b[1;36m8\u001b[0m\u001b[1;33m,\u001b[0m\u001b[1;36m0.25\u001b[0m\u001b[1;33m)\u001b[0m\u001b[1;33m)\u001b[0m\u001b[1;33m*\u001b[0m\u001b[1;36m100\u001b[0m\u001b[1;33m)\u001b[0m\u001b[1;33m,\u001b[0m\u001b[1;36m2\u001b[0m\u001b[1;33m)\u001b[0m\u001b[1;33m,\u001b[0m\u001b[1;34m\"%\"\u001b[0m\u001b[1;33m)\u001b[0m\u001b[1;33m\u001b[0m\u001b[1;33m\u001b[0m\u001b[0m\n\u001b[0m",
      "\u001b[1;31mAttributeError\u001b[0m: 'numpy.float64' object has no attribute 'binom'"
     ]
    }
   ],
   "source": [
    "#Q30\n",
    "print(\"The probability that steve will pass-\",round(((stats.binom.pmf(2,8,0.25))*100),2),\"%\")"
   ]
  },
  {
   "cell_type": "code",
   "execution_count": null,
   "metadata": {},
   "outputs": [],
   "source": []
  }
 ],
 "metadata": {
  "kernelspec": {
   "display_name": "Python 3",
   "language": "python",
   "name": "python3"
  },
  "language_info": {
   "codemirror_mode": {
    "name": "ipython",
    "version": 3
   },
   "file_extension": ".py",
   "mimetype": "text/x-python",
   "name": "python",
   "nbconvert_exporter": "python",
   "pygments_lexer": "ipython3",
   "version": "3.8.5"
  }
 },
 "nbformat": 4,
 "nbformat_minor": 4
}
