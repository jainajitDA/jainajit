{
 "cells": [
  {
   "cell_type": "code",
   "execution_count": 3,
   "metadata": {
    "collapsed": true
   },
   "outputs": [
    {
     "name": "stdout",
     "output_type": "stream",
     "text": [
      "Please Enter the year - 2012\n",
      "2012 is a leap Year!\n"
     ]
    }
   ],
   "source": [
    "### 1. Write a program to check whether an year entered by an user is leap year or not\n",
    "year= int(input(\"Please Enter the year - \"))\n",
    "if year % 4 ==0 or year%400 == 0:\n",
    "    print(year,\"is a leap Year!\")\n",
    "else:\n",
    "    print(year,\"is not a leap year!\")"
   ]
  },
  {
   "cell_type": "code",
   "execution_count": 13,
   "metadata": {
    "collapsed": true
   },
   "outputs": [
    {
     "name": "stdout",
     "output_type": "stream",
     "text": [
      "Enter the sting with punctuation -[];//!@#$dfghgfds#$%^&*/*+\n",
      "dfghgfds+\n"
     ]
    }
   ],
   "source": [
    "##.2Take a string containing punctuation marks as an input from user and \n",
    "##write a program to remove all the punctuation marks from a string\n",
    "st=str(input(\"Enter the sting with punctuation -\"))\n",
    "punt='''!()-[]{};:'\"\\,<>./?@#$%^&*_~'''\n",
    "nst=\"\"\n",
    "for i in st:\n",
    "    if i not in punt:\n",
    "        nst=nst+i   \n",
    "print(nst)"
   ]
  },
  {
   "cell_type": "code",
   "execution_count": 13,
   "metadata": {
    "collapsed": true
   },
   "outputs": [
    {
     "name": "stdout",
     "output_type": "stream",
     "text": [
      "Please Enter the num1 - 3\n",
      "Please Enter the num2 - 5\n",
      "1= 5 \n",
      " 2= 3\n"
     ]
    }
   ],
   "source": [
    "### 3. Take two separate numbers as input from the user and Write a program to swap 2 numbers \n",
    "##without using temporary variable\n",
    "n= int(input(\"Please Enter the num1 - \"))\n",
    "s= int(input(\"Please Enter the num2 - \"))\n",
    "n=n+s\n",
    "s=n-s\n",
    "n=n-s\n",
    "print(\"First no=\",n,\"\\n\",\"Second no=\",s)"
   ]
  },
  {
   "cell_type": "code",
   "execution_count": 14,
   "metadata": {
    "collapsed": true
   },
   "outputs": [
    {
     "name": "stdout",
     "output_type": "stream",
     "text": [
      "150\n"
     ]
    }
   ],
   "source": [
    "### 4. Write a program to print product of following variables\n",
    "i = 10 \n",
    "st = \"15\"\n",
    "print(i*int(st))"
   ]
  },
  {
   "cell_type": "code",
   "execution_count": 152,
   "metadata": {
    "collapsed": true
   },
   "outputs": [
    {
     "name": "stdout",
     "output_type": "stream",
     "text": [
      "a\n",
      "ab\n",
      "abc\n",
      "abcd\n",
      "abcde\n",
      "abcdef\n",
      "abcdefg\n",
      "abcdefgh\n",
      "abcdefghi\n",
      "abcdefghij\n",
      "abcdefghijk\n",
      "abcdefghijkl\n",
      "abcdefghijklm\n",
      "abcdefghijklmn\n",
      "abcdefghijklmno\n",
      "abcdefghijklmnop\n",
      "abcdefghijklmnopq\n",
      "abcdefghijklmnopqr\n",
      "abcdefghijklmnopqrs\n",
      "abcdefghijklmnopqrst\n",
      "abcdefghijklmnopqrstu\n",
      "abcdefghijklmnopqrstuv\n",
      "abcdefghijklmnopqrstuvw\n",
      "abcdefghijklmnopqrstuvwx\n",
      "abcdefghijklmnopqrstuvwxy\n",
      "abcdefghijklmnopqrstuvwxyz\n"
     ]
    }
   ],
   "source": [
    "##5. Write a program to print following pattern\n",
    "import string\n",
    "b=\"\"\n",
    "for i in string.ascii_lowercase:\n",
    "        b=b+i\n",
    "        print(b)      "
   ]
  },
  {
   "cell_type": "code",
   "execution_count": 108,
   "metadata": {
    "collapsed": true
   },
   "outputs": [
    {
     "name": "stdout",
     "output_type": "stream",
     "text": [
      "Enter the no of tables-\n",
      "10\n",
      "2 x 1 = 2\n",
      "2 x 2 = 4\n",
      "2 x 3 = 6\n",
      "2 x 4 = 8\n",
      "2 x 5 = 10\n",
      "2 x 6 = 12\n",
      "2 x 7 = 14\n",
      "2 x 8 = 16\n",
      "2 x 9 = 18\n",
      "2 x 10 = 20\n",
      "\n",
      "3 x 1 = 3\n",
      "3 x 2 = 6\n",
      "3 x 3 = 9\n",
      "3 x 4 = 12\n",
      "3 x 5 = 15\n",
      "3 x 6 = 18\n",
      "3 x 7 = 21\n",
      "3 x 8 = 24\n",
      "3 x 9 = 27\n",
      "3 x 10 = 30\n",
      "\n",
      "4 x 1 = 4\n",
      "4 x 2 = 8\n",
      "4 x 3 = 12\n",
      "4 x 4 = 16\n",
      "4 x 5 = 20\n",
      "4 x 6 = 24\n",
      "4 x 7 = 28\n",
      "4 x 8 = 32\n",
      "4 x 9 = 36\n",
      "4 x 10 = 40\n",
      "\n",
      "5 x 1 = 5\n",
      "5 x 2 = 10\n",
      "5 x 3 = 15\n",
      "5 x 4 = 20\n",
      "5 x 5 = 25\n",
      "5 x 6 = 30\n",
      "5 x 7 = 35\n",
      "5 x 8 = 40\n",
      "5 x 9 = 45\n",
      "5 x 10 = 50\n",
      "\n",
      "6 x 1 = 6\n",
      "6 x 2 = 12\n",
      "6 x 3 = 18\n",
      "6 x 4 = 24\n",
      "6 x 5 = 30\n",
      "6 x 6 = 36\n",
      "6 x 7 = 42\n",
      "6 x 8 = 48\n",
      "6 x 9 = 54\n",
      "6 x 10 = 60\n",
      "\n",
      "7 x 1 = 7\n",
      "7 x 2 = 14\n",
      "7 x 3 = 21\n",
      "7 x 4 = 28\n",
      "7 x 5 = 35\n",
      "7 x 6 = 42\n",
      "7 x 7 = 49\n",
      "7 x 8 = 56\n",
      "7 x 9 = 63\n",
      "7 x 10 = 70\n",
      "\n",
      "8 x 1 = 8\n",
      "8 x 2 = 16\n",
      "8 x 3 = 24\n",
      "8 x 4 = 32\n",
      "8 x 5 = 40\n",
      "8 x 6 = 48\n",
      "8 x 7 = 56\n",
      "8 x 8 = 64\n",
      "8 x 9 = 72\n",
      "8 x 10 = 80\n",
      "\n",
      "9 x 1 = 9\n",
      "9 x 2 = 18\n",
      "9 x 3 = 27\n",
      "9 x 4 = 36\n",
      "9 x 5 = 45\n",
      "9 x 6 = 54\n",
      "9 x 7 = 63\n",
      "9 x 8 = 72\n",
      "9 x 9 = 81\n",
      "9 x 10 = 90\n",
      "\n",
      "10 x 1 = 10\n",
      "10 x 2 = 20\n",
      "10 x 3 = 30\n",
      "10 x 4 = 40\n",
      "10 x 5 = 50\n",
      "10 x 6 = 60\n",
      "10 x 7 = 70\n",
      "10 x 8 = 80\n",
      "10 x 9 = 90\n",
      "10 x 10 = 100\n",
      "\n"
     ]
    }
   ],
   "source": [
    "### 6. Write a program to print tables from 2 to n, where n is provided by user\n",
    "n=int(input(\"Enter the no of tables-\\n\"))\n",
    "for i in range(2,n+1):\n",
    "    for j in range(1,11):\n",
    "        print(i, 'x', j, '=', i*j)\n",
    "    print()"
   ]
  },
  {
   "cell_type": "code",
   "execution_count": 67,
   "metadata": {
    "collapsed": true
   },
   "outputs": [
    {
     "name": "stdout",
     "output_type": "stream",
     "text": [
      "{0, 27, 34, 43}\n"
     ]
    }
   ],
   "source": [
    "##Extra: Given two sets, Checks if One Set is a subset or superset of another Set.\n",
    "##if the subset is found delete all elements from that set\n",
    "ft = {27, 43, 34, 0}\n",
    "st = {34, 93, 22, 0, 27, 43, 53, 48}\n",
    "s=set()\n",
    "if len(ft)<len(st):\n",
    "    for i in ft:\n",
    "        if i in st:\n",
    "            s.add(i)\n",
    "print(s)   "
   ]
  },
  {
   "cell_type": "code",
   "execution_count": 50,
   "metadata": {
    "collapsed": true
   },
   "outputs": [
    {
     "name": "stdout",
     "output_type": "stream",
     "text": [
      "Enter the height in 'Centimenters'-\n",
      "45.72\n",
      "The height is 1 feet & 6 inch\n"
     ]
    }
   ],
   "source": [
    "### 7. Write a program to read height (in centimeters) from user and then convert it to feet and inches\n",
    "n=float(input(\"Enter the height in 'Centimenters'-\\n\"))\n",
    "f=n/30.48\n",
    "feet=int(feet)\n",
    "i=f-feet\n",
    "inch=int(i*12)\n",
    "print(\"The height is\",feet,\"feet\",\"&\",inch,\"inch\")"
   ]
  },
  {
   "cell_type": "code",
   "execution_count": 54,
   "metadata": {
    "collapsed": true
   },
   "outputs": [
    {
     "name": "stdout",
     "output_type": "stream",
     "text": [
      "Enter the range of pattern-\n",
      "50\n",
      "\n",
      "*\n",
      "**\n",
      "***\n",
      "****\n",
      "*****\n",
      "******\n",
      "*******\n",
      "********\n",
      "*********\n",
      "**********\n",
      "***********\n",
      "************\n",
      "*************\n",
      "**************\n",
      "***************\n",
      "****************\n",
      "*****************\n",
      "******************\n",
      "*******************\n",
      "********************\n",
      "*********************\n",
      "**********************\n",
      "***********************\n",
      "************************\n",
      "*************************\n",
      "**************************\n",
      "***************************\n",
      "****************************\n",
      "*****************************\n",
      "******************************\n",
      "*******************************\n",
      "********************************\n",
      "*********************************\n",
      "**********************************\n",
      "***********************************\n",
      "************************************\n",
      "*************************************\n",
      "**************************************\n",
      "***************************************\n",
      "****************************************\n",
      "*****************************************\n",
      "******************************************\n",
      "*******************************************\n",
      "********************************************\n",
      "*********************************************\n",
      "**********************************************\n",
      "***********************************************\n",
      "************************************************\n",
      "*************************************************\n",
      "**************************************************\n",
      "*************************************************\n",
      "************************************************\n",
      "***********************************************\n",
      "**********************************************\n",
      "*********************************************\n",
      "********************************************\n",
      "*******************************************\n",
      "******************************************\n",
      "*****************************************\n",
      "****************************************\n",
      "***************************************\n",
      "**************************************\n",
      "*************************************\n",
      "************************************\n",
      "***********************************\n",
      "**********************************\n",
      "*********************************\n",
      "********************************\n",
      "*******************************\n",
      "******************************\n",
      "*****************************\n",
      "****************************\n",
      "***************************\n",
      "**************************\n",
      "*************************\n",
      "************************\n",
      "***********************\n",
      "**********************\n",
      "*********************\n",
      "********************\n",
      "*******************\n",
      "******************\n",
      "*****************\n",
      "****************\n",
      "***************\n",
      "**************\n",
      "*************\n",
      "************\n",
      "***********\n",
      "**********\n",
      "*********\n",
      "********\n",
      "*******\n",
      "******\n",
      "*****\n",
      "****\n",
      "***\n",
      "**\n",
      "*\n"
     ]
    }
   ],
   "source": [
    "### 8. Write a program to print following pattern\n",
    "n=int(input(\"Enter the range of pattern-\\n\"))\n",
    "for i in range(n):\n",
    "    print(\"*\"*i)\n",
    "for i in range(n):\n",
    "    print(\"*\"*(n-i))"
   ]
  },
  {
   "cell_type": "code",
   "execution_count": 63,
   "metadata": {
    "collapsed": true
   },
   "outputs": [
    {
     "name": "stdout",
     "output_type": "stream",
     "text": [
      "dict_items([(26, 'Jon'), (34, 'Roger'), (13, 'Jessica'), (24, 'Monica'), (65, 'Ashton')])\n"
     ]
    }
   ],
   "source": [
    "### 9. Below list contains age and name of five students. \n",
    "#Convert the list into a dictionary such that the name is taken as key and \n",
    "#the age before their name is taken as thier respective value in the dictionary\n",
    "students = [26,'Jon',34,'Roger',13,'Jessica',24,'Monica',65,'Ashton']\n",
    "dic={}\n",
    "for i in range(0,len(students),2):\n",
    "    dic[students[i]]=students[i+1]\n",
    "print(dic.items())"
   ]
  },
  {
   "cell_type": "code",
   "execution_count": 109,
   "metadata": {
    "collapsed": true
   },
   "outputs": [
    {
     "name": "stdout",
     "output_type": "stream",
     "text": [
      "Enter first word -\n",
      "daddy\n",
      "Enter second word -\n",
      "dddya\n",
      "An Anagram\n"
     ]
    }
   ],
   "source": [
    "### 10. Write a program to check whether two strings, taken from user, are anagram or not\n",
    "text1=str.lower(input(\"Enter first word -\\n\"))\n",
    "text2=str.lower(input(\"Enter second word -\\n\"))\n",
    "s1=[]\n",
    "s2=[]\n",
    "for i in text1:\n",
    "    s1.append(i)\n",
    "for j in text2:\n",
    "    s2.append(j)\n",
    "if s1.sort() == s2.sort() and len(s1)==len(s2):\n",
    "    print(\"An Anagram\")\n",
    "else:\n",
    "    print(\"not an Anagram\")"
   ]
  },
  {
   "cell_type": "code",
   "execution_count": 78,
   "metadata": {
    "collapsed": true
   },
   "outputs": [
    {
     "name": "stdout",
     "output_type": "stream",
     "text": [
      "Enter first word -Ajit\n",
      "Enter second word -ajita\n",
      "not an Anagram\n"
     ]
    }
   ],
   "source": [
    "text1=str.lower(input(\"Enter first word -\"))\n",
    "text2=str.lower(input(\"Enter second word -\"))\n",
    "if sorted(text1) == sorted(text2):\n",
    "    print(\"An Anagram\")\n",
    "else:\n",
    "    print(\"not an Anagram\")"
   ]
  },
  {
   "cell_type": "code",
   "execution_count": null,
   "metadata": {},
   "outputs": [],
   "source": [
    "### 11. Write a program that sorts all the elements of the list according to the first letter,\n",
    "##irrespective of their cases (uppercase or lowercase). Note: Do not use any inbuilt sorting function"
   ]
  },
  {
   "cell_type": "code",
   "execution_count": 98,
   "metadata": {
    "collapsed": true
   },
   "outputs": [
    {
     "name": "stdout",
     "output_type": "stream",
     "text": [
      "['Lemon', 'Grapes', 'Kiwi', 'Orange', 'Limes']\n"
     ]
    }
   ],
   "source": [
    "### 12. Write a program that prints a list of sour fruits from the below tuple:\n",
    "fruits = (('Lemon','sour'), ('DragonFruit', 'Sweet'), ('Grapes','sour'), ('Kiwi','sOuR'), \n",
    "          ('Apples','sweet'), ('Orange','Sour'), ('Blueberries','sweet'), ('Limes','sour') ) \n",
    "lst=[]\n",
    "for i in fruits:\n",
    "    fla=i[1]\n",
    "    if fla.lower()==\"sour\":\n",
    "        lst.append(i[0])  \n",
    "print(lst)"
   ]
  },
  {
   "cell_type": "code",
   "execution_count": 115,
   "metadata": {
    "collapsed": true
   },
   "outputs": [
    {
     "name": "stdout",
     "output_type": "stream",
     "text": [
      "'' This government policies are good '' -is a Positive comment.\n",
      "'' bad implementation '' -is a Negative comment.\n",
      "'' The way he played showed that he is one of the best players in the world '' -is a Positive comment.\n",
      "'' Her acting in the play was awesome '' -is a Positive comment.\n",
      "'' The wine tastes awful '' -is a Negative comment.\n",
      "'' Its nice to hear this little kids laugh '' -is a Positive comment.\n"
     ]
    }
   ],
   "source": [
    "### 13. Given below are the list of positive and negative words. \n",
    "##Also a list of tweets is provided. Separate out the positive and negative comments\n",
    "positive = ['good','awesome', 'best','nice']\n",
    "negative = ['worst','awful', 'bad']\n",
    "tweets = ['This government policies are good', 'bad implementation', \n",
    "          'The way he played showed that he is one of the best players in the world', \n",
    "          'Her acting in the play was awesome', 'The wine tastes awful', 'Its nice to hear this little kids laugh']\n",
    "for i in tweets:\n",
    "    w=i.split(\" \")\n",
    "    for p in positive:\n",
    "        for k in w:\n",
    "            if p.lower() == k.lower():\n",
    "                print(\"''\",i,\"''\",\"-is a Positive comment.\")\n",
    "    for n in negative:\n",
    "        for k in w:\n",
    "            if n.lower() == k.lower():\n",
    "                print(\"''\",i,\"''\",\"-is a Negative comment.\")"
   ]
  },
  {
   "cell_type": "code",
   "execution_count": 150,
   "metadata": {},
   "outputs": [
    {
     "name": "stdout",
     "output_type": "stream",
     "text": [
      "[[ 1 16  3]\n",
      " [12 35 18]\n",
      " [28 40 81]]\n"
     ]
    }
   ],
   "source": [
    "### 14. Write a program that performs multiplication of the following two matrix\n",
    "X = [[1,2,3],\n",
    "    [4 ,5,6],\n",
    "    [7 ,8,9]]\n",
    "Y = [[1,8,1],\n",
    "    [3,7,3],\n",
    "    [4,5,9]]\n",
    "lst=[]\n",
    "for i,j in zip(X,Y):\n",
    "    for l,m in zip(i,j):\n",
    "        n=l*m\n",
    "        lst.append(n)\n",
    "print(np.array([lst]).reshape(3,3))"
   ]
  },
  {
   "cell_type": "code",
   "execution_count": 128,
   "metadata": {
    "collapsed": true
   },
   "outputs": [
    {
     "name": "stdout",
     "output_type": "stream",
     "text": [
      "{'emp01': 'Raj', 'emp02': 'Sheela', 'emp03': 'Joseph'}\n"
     ]
    }
   ],
   "source": [
    "### 15. Write a program to remove space from keys of the given dictionary\n",
    "emp= {'emp 01' : 'Raj', 'emp 02' : 'Sheela', 'emp 0 3 ': 'Joseph'}; \n",
    "emp1={}\n",
    "for k,v in emp.items():\n",
    "    emp1[(k.replace(\" \",\"\"))]=v\n",
    "print(emp1)    "
   ]
  },
  {
   "cell_type": "code",
   "execution_count": 129,
   "metadata": {
    "collapsed": true
   },
   "outputs": [
    {
     "name": "stdout",
     "output_type": "stream",
     "text": [
      "{'emp01': 'Raj', 'emp02': 'Sheela', 'emp03': 'Joseph'}\n"
     ]
    }
   ],
   "source": [
    "emp= {'emp 01' : 'Raj', 'emp 02' : 'Sheela', 'emp 0 3 ': 'Joseph'}; \n",
    "for k,v in emp.items():\n",
    "    emp[(k.replace(\" \",\"\"))]=emp.pop(k)\n",
    "print(emp)   "
   ]
  },
  {
   "cell_type": "code",
   "execution_count": null,
   "metadata": {},
   "outputs": [],
   "source": [
    "##16. Write a program to display the subjects for which the scores are between 300 and \n",
    "##500 (inclusive) in the given dataframe"
   ]
  },
  {
   "cell_type": "code",
   "execution_count": 11,
   "metadata": {
    "collapsed": true
   },
   "outputs": [
    {
     "name": "stdout",
     "output_type": "stream",
     "text": [
      "12459\n",
      "12447\n",
      "12678\n"
     ]
    }
   ],
   "source": [
    "### 17. Write a program to find numbers between 10000 to 20000 from a given array\n",
    "import numpy as np\n",
    "sales = np.array([1432,143223,2043332,1642357,54327,754338,12459,75435,224454,1433,12447,25532,86674,74338,12678])\n",
    "for i in sales:\n",
    "    if i in range(10000,20001):\n",
    "        print(i)"
   ]
  },
  {
   "cell_type": "code",
   "execution_count": null,
   "metadata": {},
   "outputs": [],
   "source": [
    "###18"
   ]
  },
  {
   "cell_type": "code",
   "execution_count": null,
   "metadata": {},
   "outputs": [],
   "source": [
    "###19"
   ]
  },
  {
   "cell_type": "code",
   "execution_count": null,
   "metadata": {},
   "outputs": [],
   "source": [
    "###20"
   ]
  },
  {
   "cell_type": "code",
   "execution_count": 16,
   "metadata": {
    "collapsed": true
   },
   "outputs": [
    {
     "data": {
      "text/plain": [
       "array([[331, 245, 246],\n",
       "       [475, 348, 229]])"
      ]
     },
     "execution_count": 16,
     "metadata": {},
     "output_type": "execute_result"
    }
   ],
   "source": [
    "### 21. Convert a 1D array to a 2D array containing 2 rows\n",
    "dim_1 =np.array([331, 245, 246, 475, 348, 229])\n",
    "dim_1.shape\n",
    "dim= dim_1.reshape(2,3)\n",
    "dim"
   ]
  },
  {
   "cell_type": "code",
   "execution_count": 19,
   "metadata": {
    "collapsed": true
   },
   "outputs": [
    {
     "ename": "IndentationError",
     "evalue": "expected an indented block (<ipython-input-19-98f480b8c408>, line 12)",
     "output_type": "error",
     "traceback": [
      "\u001b[1;36m  File \u001b[1;32m\"<ipython-input-19-98f480b8c408>\"\u001b[1;36m, line \u001b[1;32m12\u001b[0m\n\u001b[1;33m    pro.append([i,j])\u001b[0m\n\u001b[1;37m    ^\u001b[0m\n\u001b[1;31mIndentationError\u001b[0m\u001b[1;31m:\u001b[0m expected an indented block\n"
     ]
    }
   ],
   "source": [
    "### 22. Find the average cost of each variety of product available in the three different shops\n",
    "cost=[[10, 20, 30], [17, 14, 21], [25, 15, 12]]\n",
    "columns=['product_a', 'product_b', 'product_c']\n",
    "index=['Shop1', 'Shop2', 'Shop3']   "
   ]
  },
  {
   "cell_type": "code",
   "execution_count": null,
   "metadata": {},
   "outputs": [],
   "source": [
    "###23"
   ]
  },
  {
   "cell_type": "code",
   "execution_count": null,
   "metadata": {},
   "outputs": [],
   "source": [
    "### 24. Write a program to delete items from series_a that are present in series_b and print the updated series_a\n",
    "sa = ([11, 12, 13, 14, 15])\n",
    "sb= ([14, 15, 16, 17, 18])\n",
    "type(sb)\n",
    "for i in sb:\n",
    "    if i in sa:\n",
    "        sa.remove(i)      \n",
    "print(sa)"
   ]
  },
  {
   "cell_type": "code",
   "execution_count": null,
   "metadata": {},
   "outputs": [],
   "source": [
    "##25"
   ]
  },
  {
   "cell_type": "code",
   "execution_count": null,
   "metadata": {},
   "outputs": [],
   "source": [
    "### 26. Get common elements from the two arrays\n",
    "testa = np.array([11,12,13,22,23,44,43,24,45,36])\n",
    "testb = np.array([17,22,13,22,47,34,39,44,29,28])\n",
    "lst=[]\n",
    "for i in  testa:\n",
    "    if i in testb:\n",
    "        lst.append(i)\n",
    "comm=np.array([lst])\n",
    "comm"
   ]
  },
  {
   "cell_type": "code",
   "execution_count": null,
   "metadata": {},
   "outputs": [],
   "source": [
    "###27"
   ]
  },
  {
   "cell_type": "code",
   "execution_count": null,
   "metadata": {},
   "outputs": [],
   "source": [
    "###28"
   ]
  },
  {
   "cell_type": "code",
   "execution_count": null,
   "metadata": {},
   "outputs": [],
   "source": [
    "###29"
   ]
  },
  {
   "cell_type": "code",
   "execution_count": 147,
   "metadata": {
    "collapsed": true
   },
   "outputs": [
    {
     "name": "stdout",
     "output_type": "stream",
     "text": [
      "[4 3 2 1 0]\n",
      "[9 8 7 6 5]\n",
      "[14 13 12 11 10]\n",
      "[19 18 17 16 15]\n"
     ]
    }
   ],
   "source": [
    "### 30. Reverse each of the rows of the 2D array\n",
    "num_array = np.arange(20).reshape(4,5)\n",
    "for i in range(len(num_array)):\n",
    "    d=num_array[i]\n",
    "    d=d[::-1]\n",
    "    print(d)"
   ]
  },
  {
   "cell_type": "code",
   "execution_count": 144,
   "metadata": {
    "collapsed": true
   },
   "outputs": [
    {
     "name": "stdout",
     "output_type": "stream",
     "text": [
      "[[ 4  3  2  1  0]\n",
      " [ 9  8  7  6  5]\n",
      " [14 13 12 11 10]\n",
      " [19 18 17 16 15]]\n"
     ]
    }
   ],
   "source": [
    "num_array = np.arange(20).reshape(4,5)\n",
    "lst=[]\n",
    "for i in num_array:\n",
    "    for j in i[::-1]:\n",
    "        lst.append(j)\n",
    "num_array=np.array([lst]).reshape(4,5)\n",
    "print(num_array)"
   ]
  }
 ],
 "metadata": {
  "kernelspec": {
   "display_name": "Python 3",
   "language": "python",
   "name": "python3"
  },
  "language_info": {
   "codemirror_mode": {
    "name": "ipython",
    "version": 3
   },
   "file_extension": ".py",
   "mimetype": "text/x-python",
   "name": "python",
   "nbconvert_exporter": "python",
   "pygments_lexer": "ipython3",
   "version": "3.8.5"
  }
 },
 "nbformat": 4,
 "nbformat_minor": 4
}
