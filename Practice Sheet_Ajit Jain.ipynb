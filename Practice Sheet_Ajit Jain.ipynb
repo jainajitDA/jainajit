{
 "cells": [
  {
   "cell_type": "code",
   "execution_count": null,
   "metadata": {},
   "outputs": [],
   "source": [
    "##Exercise 1: Given two integer numbers return their product. If the product is greater than 1000, then return their sum\n",
    "\n",
    "num1=int(input(\"Enter first no - \"))\n",
    "num2=int(input(\"Enter second no - \"))\n",
    "\n",
    "prod = num1 * num2\n",
    "\n",
    "if prod  > 1000:\n",
    "    print(\"Product is greater than 1000 \\n Sum - \",num1 + num2)\n",
    "else:\n",
    "    print(\"Product- \",prod)"
   ]
  },
  {
   "cell_type": "code",
   "execution_count": null,
   "metadata": {},
   "outputs": [],
   "source": [
    "##Exercise 2: Given a range of the first 10 numbers, Iterate from the start number to the end number, \n",
    "#and In each iteration print the sum of the current number and previous number\n",
    "\n",
    "n=int(input(\"Enter the range -\"))\n",
    "print(\"Printing current and previous number sum in a range(10)\")\n",
    "PNum=  0 \n",
    "for CNum in range(n):\n",
    "    Sum= CNum + PNum\n",
    "    print(\"Current Number \",CNum,\"Previous Number \",PNum,\"Sum \",Sum)\n",
    "    PNum= CNum"
   ]
  },
  {
   "cell_type": "code",
   "execution_count": null,
   "metadata": {},
   "outputs": [],
   "source": [
    "##Exercise 3: Given a string, display only those characters which are present at an even index number.\n",
    "s=str(input(\"Enter the string- \"))\n",
    "print(\"Orginal String \",s)\n",
    "\n",
    "print(\"Printing only even index chars\")\n",
    "a=0\n",
    "for i in range(len(s)):\n",
    "    if i%2==0:\n",
    "        p=s[i]\n",
    "        print(p)\n",
    "        a=i"
   ]
  },
  {
   "cell_type": "code",
   "execution_count": null,
   "metadata": {},
   "outputs": [],
   "source": [
    "##Exercise 4: Given a string and an integer number n, remove characters from a string starting from zero up to n and \n",
    "##return a new string\n",
    "\n",
    "s=str(input(\"Enter the string -\"))\n",
    "i=int(input(\"Enter the number -\"))\n",
    "\n",
    "print(s[i:])"
   ]
  },
  {
   "cell_type": "code",
   "execution_count": null,
   "metadata": {},
   "outputs": [],
   "source": []
  },
  {
   "cell_type": "code",
   "execution_count": null,
   "metadata": {},
   "outputs": [],
   "source": []
  },
  {
   "cell_type": "code",
   "execution_count": null,
   "metadata": {},
   "outputs": [],
   "source": []
  }
 ],
 "metadata": {
  "kernelspec": {
   "display_name": "Python 3",
   "language": "python",
   "name": "python3"
  },
  "language_info": {
   "codemirror_mode": {
    "name": "ipython",
    "version": 3
   },
   "file_extension": ".py",
   "mimetype": "text/x-python",
   "name": "python",
   "nbconvert_exporter": "python",
   "pygments_lexer": "ipython3",
   "version": "3.8.5"
  }
 },
 "nbformat": 4,
 "nbformat_minor": 4
}
