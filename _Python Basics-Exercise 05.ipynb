{
 "cells": [
  {
   "cell_type": "code",
   "execution_count": 2,
   "metadata": {},
   "outputs": [
    {
     "name": "stdout",
     "output_type": "stream",
     "text": [
      "Enter the first num-2\n",
      "Enter the second num-3\n",
      "The product of two num is - 6\n"
     ]
    }
   ],
   "source": [
    "##Exercise 1: Accept two numbers from the user and calculate multiplication\n",
    "f=int(input(\"Enter the first num-\"))\n",
    "s=int(input(\"Enter the second num-\"))\n",
    "\n",
    "mul=f*s\n",
    "print(\"The product of two num is -\",mul)\n"
   ]
  },
  {
   "cell_type": "code",
   "execution_count": 5,
   "metadata": {},
   "outputs": [
    {
     "name": "stdout",
     "output_type": "stream",
     "text": [
      "My**Name**Is**James\n",
      "enter the stringMy Name Is James\n",
      "['My', 'Name', 'Is', 'James']\n"
     ]
    }
   ],
   "source": [
    "##Exercise Question 2: Display “My Name Is James” as “My**Name**Is**James” using output formatting of a print() function\n",
    "\n",
    "print(\"My\",\"Name\",\"Is\",\"James\",sep=\"**\")\n",
    "\n",
    "sen=str(input(\"enter the string\"))\n",
    "print(sen.split(\" \"),sep=\"**\")"
   ]
  },
  {
   "cell_type": "code",
   "execution_count": null,
   "metadata": {},
   "outputs": [],
   "source": [
    "##Exercise 3: Convert decimal number to octal using print() output formatting\n"
   ]
  },
  {
   "cell_type": "code",
   "execution_count": 6,
   "metadata": {},
   "outputs": [
    {
     "name": "stdout",
     "output_type": "stream",
     "text": [
      "Enter the no of element in list- 3\n",
      "123\n",
      "123.4\n",
      "22.454\n",
      "[123.0, 123.4, 22.454]\n"
     ]
    }
   ],
   "source": [
    "##Exercise 5: Accept a list of 5 float numbers as an input from the user\n",
    "\n",
    "lst = []\n",
    "n = int(input(\"Enter the no of element in list- \"))\n",
    "\n",
    "\n",
    "for i in range(n):\n",
    "    num = float(input())\n",
    "    lst.append(num)\n",
    "    \n",
    "print(lst)"
   ]
  },
  {
   "cell_type": "code",
   "execution_count": null,
   "metadata": {},
   "outputs": [],
   "source": [
    "##Exercise 6: Write all content of a given file into a new file by skipping line number 5\n"
   ]
  }
 ],
 "metadata": {
  "kernelspec": {
   "display_name": "Python 3",
   "language": "python",
   "name": "python3"
  },
  "language_info": {
   "codemirror_mode": {
    "name": "ipython",
    "version": 3
   },
   "file_extension": ".py",
   "mimetype": "text/x-python",
   "name": "python",
   "nbconvert_exporter": "python",
   "pygments_lexer": "ipython3",
   "version": "3.8.5"
  }
 },
 "nbformat": 4,
 "nbformat_minor": 4
}
